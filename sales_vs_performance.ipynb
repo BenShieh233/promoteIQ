{
 "cells": [
  {
   "cell_type": "code",
   "execution_count": 2,
   "metadata": {},
   "outputs": [],
   "source": [
    "import pandas as pd\n",
    "import plotly.express as px"
   ]
  },
  {
   "cell_type": "code",
   "execution_count": 3,
   "metadata": {},
   "outputs": [],
   "source": [
    "sales = pd.read_excel(\"salesreport121220241212190340.xlsx\", skiprows = 3)"
   ]
  },
  {
   "cell_type": "code",
   "execution_count": 4,
   "metadata": {},
   "outputs": [],
   "source": [
    "sales['DATE'] = pd.to_datetime(sales['ORDER DATE']).dt.date  # 保留年月日"
   ]
  },
  {
   "cell_type": "code",
   "execution_count": 5,
   "metadata": {},
   "outputs": [],
   "source": [
    "campaign = pd.read_excel(\"1212report20241212191257.xlsx\", skiprows = 3)"
   ]
  },
  {
   "cell_type": "code",
   "execution_count": 6,
   "metadata": {},
   "outputs": [],
   "source": [
    "campaign['DATE'] = pd.to_datetime(campaign['DATE']).dt.date"
   ]
  },
  {
   "cell_type": "code",
   "execution_count": 25,
   "metadata": {},
   "outputs": [],
   "source": [
    "df1, df2 = sales[sales['CAMPAIGN ID']==307778], campaign[campaign['CAMPAIGN ID']==307778]"
   ]
  },
  {
   "cell_type": "code",
   "execution_count": 26,
   "metadata": {},
   "outputs": [],
   "source": [
    "promoted_sku_aggregated = df2.groupby(['CAMPAIGN ID', 'DATE'])['PROMOTED SKU'] \\\n",
    "    .apply(set).reset_index()"
   ]
  },
  {
   "cell_type": "code",
   "execution_count": 27,
   "metadata": {},
   "outputs": [],
   "source": [
    "merged = df1.merge(promoted_sku_aggregated, on=['CAMPAIGN ID', 'DATE'], how='left')\n"
   ]
  },
  {
   "cell_type": "code",
   "execution_count": 28,
   "metadata": {},
   "outputs": [],
   "source": [
    "merged['Is Promoted'] = merged.apply(lambda row: row['PURCHASED SKU'] in row['PROMOTED SKU'], axis=1)\n"
   ]
  },
  {
   "cell_type": "code",
   "execution_count": 29,
   "metadata": {},
   "outputs": [
    {
     "data": {
      "text/html": [
       "<div>\n",
       "<style scoped>\n",
       "    .dataframe tbody tr th:only-of-type {\n",
       "        vertical-align: middle;\n",
       "    }\n",
       "\n",
       "    .dataframe tbody tr th {\n",
       "        vertical-align: top;\n",
       "    }\n",
       "\n",
       "    .dataframe thead th {\n",
       "        text-align: right;\n",
       "    }\n",
       "</style>\n",
       "<table border=\"1\" class=\"dataframe\">\n",
       "  <thead>\n",
       "    <tr style=\"text-align: right;\">\n",
       "      <th></th>\n",
       "      <th>CAMPAIGN ID</th>\n",
       "      <th>CAMPAIGN NAME</th>\n",
       "      <th>PURCHASED SKU</th>\n",
       "      <th>TOTAL SALES</th>\n",
       "      <th>DATE</th>\n",
       "      <th>PROMOTED SKU</th>\n",
       "      <th>Is Promoted</th>\n",
       "    </tr>\n",
       "  </thead>\n",
       "  <tbody>\n",
       "    <tr>\n",
       "      <th>0</th>\n",
       "      <td>307778</td>\n",
       "      <td>525B5L-W1G+485J1L-BO-FM+NS453VL22-B2FM($0.95/1...</td>\n",
       "      <td>321188607</td>\n",
       "      <td>180.00</td>\n",
       "      <td>2024-11-12</td>\n",
       "      <td>{322445452.0, 328290637.0, 320292977.0, 328290...</td>\n",
       "      <td>False</td>\n",
       "    </tr>\n",
       "    <tr>\n",
       "      <th>1</th>\n",
       "      <td>307778</td>\n",
       "      <td>525B5L-W1G+485J1L-BO-FM+NS453VL22-B2FM($0.95/1...</td>\n",
       "      <td>328397058</td>\n",
       "      <td>264.14</td>\n",
       "      <td>2024-11-13</td>\n",
       "      <td>{322445452.0, 328290637.0, 320292977.0, 328290...</td>\n",
       "      <td>False</td>\n",
       "    </tr>\n",
       "    <tr>\n",
       "      <th>2</th>\n",
       "      <td>307778</td>\n",
       "      <td>525B5L-W1G+485J1L-BO-FM+NS453VL22-B2FM($0.95/1...</td>\n",
       "      <td>329401738</td>\n",
       "      <td>110.57</td>\n",
       "      <td>2024-11-13</td>\n",
       "      <td>{322445452.0, 328290637.0, 320292977.0, 328290...</td>\n",
       "      <td>False</td>\n",
       "    </tr>\n",
       "    <tr>\n",
       "      <th>3</th>\n",
       "      <td>307778</td>\n",
       "      <td>525B5L-W1G+485J1L-BO-FM+NS453VL22-B2FM($0.95/1...</td>\n",
       "      <td>318599403</td>\n",
       "      <td>153.00</td>\n",
       "      <td>2024-11-13</td>\n",
       "      <td>{322445452.0, 328290637.0, 320292977.0, 328290...</td>\n",
       "      <td>False</td>\n",
       "    </tr>\n",
       "    <tr>\n",
       "      <th>4</th>\n",
       "      <td>307778</td>\n",
       "      <td>525B5L-W1G+485J1L-BO-FM+NS453VL22-B2FM($0.95/1...</td>\n",
       "      <td>321188561</td>\n",
       "      <td>180.00</td>\n",
       "      <td>2024-11-14</td>\n",
       "      <td>{322445452.0, 328290637.0, 320292977.0, 328290...</td>\n",
       "      <td>False</td>\n",
       "    </tr>\n",
       "    <tr>\n",
       "      <th>...</th>\n",
       "      <td>...</td>\n",
       "      <td>...</td>\n",
       "      <td>...</td>\n",
       "      <td>...</td>\n",
       "      <td>...</td>\n",
       "      <td>...</td>\n",
       "      <td>...</td>\n",
       "    </tr>\n",
       "    <tr>\n",
       "      <th>57</th>\n",
       "      <td>307778</td>\n",
       "      <td>525B5L-W1G+485J1L-BO-FM+NS453VL22-B2FM($0.95/1...</td>\n",
       "      <td>322445452</td>\n",
       "      <td>169.99</td>\n",
       "      <td>2024-12-06</td>\n",
       "      <td>{322445452.0, 328290637.0, 328290899.0, 321936...</td>\n",
       "      <td>True</td>\n",
       "    </tr>\n",
       "    <tr>\n",
       "      <th>58</th>\n",
       "      <td>307778</td>\n",
       "      <td>525B5L-W1G+485J1L-BO-FM+NS453VL22-B2FM($0.95/1...</td>\n",
       "      <td>321188561</td>\n",
       "      <td>179.99</td>\n",
       "      <td>2024-12-06</td>\n",
       "      <td>{322445452.0, 328290637.0, 328290899.0, 321936...</td>\n",
       "      <td>False</td>\n",
       "    </tr>\n",
       "    <tr>\n",
       "      <th>59</th>\n",
       "      <td>307778</td>\n",
       "      <td>525B5L-W1G+485J1L-BO-FM+NS453VL22-B2FM($0.95/1...</td>\n",
       "      <td>321188607</td>\n",
       "      <td>179.99</td>\n",
       "      <td>2024-12-09</td>\n",
       "      <td>{322445452.0, 328290637.0, 328290899.0, 321936...</td>\n",
       "      <td>False</td>\n",
       "    </tr>\n",
       "    <tr>\n",
       "      <th>60</th>\n",
       "      <td>307778</td>\n",
       "      <td>525B5L-W1G+485J1L-BO-FM+NS453VL22-B2FM($0.95/1...</td>\n",
       "      <td>319965454</td>\n",
       "      <td>169.90</td>\n",
       "      <td>2024-12-10</td>\n",
       "      <td>{322445452.0, 328290637.0, 328290899.0, 321936...</td>\n",
       "      <td>False</td>\n",
       "    </tr>\n",
       "    <tr>\n",
       "      <th>61</th>\n",
       "      <td>307778</td>\n",
       "      <td>525B5L-W1G+485J1L-BO-FM+NS453VL22-B2FM($0.95/1...</td>\n",
       "      <td>321188607</td>\n",
       "      <td>179.99</td>\n",
       "      <td>2024-12-11</td>\n",
       "      <td>{322445452.0, 328290637.0, 328290899.0, 321936...</td>\n",
       "      <td>False</td>\n",
       "    </tr>\n",
       "  </tbody>\n",
       "</table>\n",
       "<p>62 rows × 7 columns</p>\n",
       "</div>"
      ],
      "text/plain": [
       "    CAMPAIGN ID                                      CAMPAIGN NAME  \\\n",
       "0        307778  525B5L-W1G+485J1L-BO-FM+NS453VL22-B2FM($0.95/1...   \n",
       "1        307778  525B5L-W1G+485J1L-BO-FM+NS453VL22-B2FM($0.95/1...   \n",
       "2        307778  525B5L-W1G+485J1L-BO-FM+NS453VL22-B2FM($0.95/1...   \n",
       "3        307778  525B5L-W1G+485J1L-BO-FM+NS453VL22-B2FM($0.95/1...   \n",
       "4        307778  525B5L-W1G+485J1L-BO-FM+NS453VL22-B2FM($0.95/1...   \n",
       "..          ...                                                ...   \n",
       "57       307778  525B5L-W1G+485J1L-BO-FM+NS453VL22-B2FM($0.95/1...   \n",
       "58       307778  525B5L-W1G+485J1L-BO-FM+NS453VL22-B2FM($0.95/1...   \n",
       "59       307778  525B5L-W1G+485J1L-BO-FM+NS453VL22-B2FM($0.95/1...   \n",
       "60       307778  525B5L-W1G+485J1L-BO-FM+NS453VL22-B2FM($0.95/1...   \n",
       "61       307778  525B5L-W1G+485J1L-BO-FM+NS453VL22-B2FM($0.95/1...   \n",
       "\n",
       "    PURCHASED SKU  TOTAL SALES        DATE  \\\n",
       "0       321188607       180.00  2024-11-12   \n",
       "1       328397058       264.14  2024-11-13   \n",
       "2       329401738       110.57  2024-11-13   \n",
       "3       318599403       153.00  2024-11-13   \n",
       "4       321188561       180.00  2024-11-14   \n",
       "..            ...          ...         ...   \n",
       "57      322445452       169.99  2024-12-06   \n",
       "58      321188561       179.99  2024-12-06   \n",
       "59      321188607       179.99  2024-12-09   \n",
       "60      319965454       169.90  2024-12-10   \n",
       "61      321188607       179.99  2024-12-11   \n",
       "\n",
       "                                         PROMOTED SKU  Is Promoted  \n",
       "0   {322445452.0, 328290637.0, 320292977.0, 328290...        False  \n",
       "1   {322445452.0, 328290637.0, 320292977.0, 328290...        False  \n",
       "2   {322445452.0, 328290637.0, 320292977.0, 328290...        False  \n",
       "3   {322445452.0, 328290637.0, 320292977.0, 328290...        False  \n",
       "4   {322445452.0, 328290637.0, 320292977.0, 328290...        False  \n",
       "..                                                ...          ...  \n",
       "57  {322445452.0, 328290637.0, 328290899.0, 321936...         True  \n",
       "58  {322445452.0, 328290637.0, 328290899.0, 321936...        False  \n",
       "59  {322445452.0, 328290637.0, 328290899.0, 321936...        False  \n",
       "60  {322445452.0, 328290637.0, 328290899.0, 321936...        False  \n",
       "61  {322445452.0, 328290637.0, 328290899.0, 321936...        False  \n",
       "\n",
       "[62 rows x 7 columns]"
      ]
     },
     "execution_count": 29,
     "metadata": {},
     "output_type": "execute_result"
    }
   ],
   "source": [
    "merged[['CAMPAIGN ID', 'CAMPAIGN NAME', 'PURCHASED SKU', 'TOTAL SALES', 'DATE', 'PROMOTED SKU', 'Is Promoted']]"
   ]
  },
  {
   "cell_type": "code",
   "execution_count": 30,
   "metadata": {},
   "outputs": [],
   "source": [
    "grouped_sales = merged.groupby(['CAMPAIGN ID', 'DATE', 'Is Promoted'])['TOTAL SALES'].sum().reset_index()\n"
   ]
  },
  {
   "cell_type": "code",
   "execution_count": 31,
   "metadata": {},
   "outputs": [
    {
     "data": {
      "text/html": [
       "<div>\n",
       "<style scoped>\n",
       "    .dataframe tbody tr th:only-of-type {\n",
       "        vertical-align: middle;\n",
       "    }\n",
       "\n",
       "    .dataframe tbody tr th {\n",
       "        vertical-align: top;\n",
       "    }\n",
       "\n",
       "    .dataframe thead th {\n",
       "        text-align: right;\n",
       "    }\n",
       "</style>\n",
       "<table border=\"1\" class=\"dataframe\">\n",
       "  <thead>\n",
       "    <tr style=\"text-align: right;\">\n",
       "      <th></th>\n",
       "      <th>CAMPAIGN ID</th>\n",
       "      <th>DATE</th>\n",
       "      <th>Is Promoted</th>\n",
       "      <th>TOTAL SALES</th>\n",
       "    </tr>\n",
       "  </thead>\n",
       "  <tbody>\n",
       "    <tr>\n",
       "      <th>0</th>\n",
       "      <td>307778</td>\n",
       "      <td>2024-11-12</td>\n",
       "      <td>False</td>\n",
       "      <td>180.00</td>\n",
       "    </tr>\n",
       "    <tr>\n",
       "      <th>1</th>\n",
       "      <td>307778</td>\n",
       "      <td>2024-11-13</td>\n",
       "      <td>False</td>\n",
       "      <td>527.71</td>\n",
       "    </tr>\n",
       "    <tr>\n",
       "      <th>2</th>\n",
       "      <td>307778</td>\n",
       "      <td>2024-11-14</td>\n",
       "      <td>False</td>\n",
       "      <td>380.00</td>\n",
       "    </tr>\n",
       "    <tr>\n",
       "      <th>3</th>\n",
       "      <td>307778</td>\n",
       "      <td>2024-11-15</td>\n",
       "      <td>True</td>\n",
       "      <td>171.41</td>\n",
       "    </tr>\n",
       "    <tr>\n",
       "      <th>4</th>\n",
       "      <td>307778</td>\n",
       "      <td>2024-11-16</td>\n",
       "      <td>True</td>\n",
       "      <td>510.00</td>\n",
       "    </tr>\n",
       "    <tr>\n",
       "      <th>5</th>\n",
       "      <td>307778</td>\n",
       "      <td>2024-11-17</td>\n",
       "      <td>False</td>\n",
       "      <td>175.09</td>\n",
       "    </tr>\n",
       "    <tr>\n",
       "      <th>6</th>\n",
       "      <td>307778</td>\n",
       "      <td>2024-11-17</td>\n",
       "      <td>True</td>\n",
       "      <td>476.00</td>\n",
       "    </tr>\n",
       "    <tr>\n",
       "      <th>7</th>\n",
       "      <td>307778</td>\n",
       "      <td>2024-11-18</td>\n",
       "      <td>False</td>\n",
       "      <td>498.60</td>\n",
       "    </tr>\n",
       "    <tr>\n",
       "      <th>8</th>\n",
       "      <td>307778</td>\n",
       "      <td>2024-11-18</td>\n",
       "      <td>True</td>\n",
       "      <td>680.00</td>\n",
       "    </tr>\n",
       "    <tr>\n",
       "      <th>9</th>\n",
       "      <td>307778</td>\n",
       "      <td>2024-11-19</td>\n",
       "      <td>False</td>\n",
       "      <td>534.00</td>\n",
       "    </tr>\n",
       "    <tr>\n",
       "      <th>10</th>\n",
       "      <td>307778</td>\n",
       "      <td>2024-11-21</td>\n",
       "      <td>False</td>\n",
       "      <td>296.00</td>\n",
       "    </tr>\n",
       "    <tr>\n",
       "      <th>11</th>\n",
       "      <td>307778</td>\n",
       "      <td>2024-11-21</td>\n",
       "      <td>True</td>\n",
       "      <td>170.00</td>\n",
       "    </tr>\n",
       "    <tr>\n",
       "      <th>12</th>\n",
       "      <td>307778</td>\n",
       "      <td>2024-11-22</td>\n",
       "      <td>False</td>\n",
       "      <td>170.00</td>\n",
       "    </tr>\n",
       "    <tr>\n",
       "      <th>13</th>\n",
       "      <td>307778</td>\n",
       "      <td>2024-11-22</td>\n",
       "      <td>True</td>\n",
       "      <td>510.00</td>\n",
       "    </tr>\n",
       "    <tr>\n",
       "      <th>14</th>\n",
       "      <td>307778</td>\n",
       "      <td>2024-11-23</td>\n",
       "      <td>False</td>\n",
       "      <td>952.06</td>\n",
       "    </tr>\n",
       "    <tr>\n",
       "      <th>15</th>\n",
       "      <td>307778</td>\n",
       "      <td>2024-11-23</td>\n",
       "      <td>True</td>\n",
       "      <td>476.01</td>\n",
       "    </tr>\n",
       "    <tr>\n",
       "      <th>16</th>\n",
       "      <td>307778</td>\n",
       "      <td>2024-11-24</td>\n",
       "      <td>False</td>\n",
       "      <td>320.00</td>\n",
       "    </tr>\n",
       "    <tr>\n",
       "      <th>17</th>\n",
       "      <td>307778</td>\n",
       "      <td>2024-11-24</td>\n",
       "      <td>True</td>\n",
       "      <td>510.00</td>\n",
       "    </tr>\n",
       "    <tr>\n",
       "      <th>18</th>\n",
       "      <td>307778</td>\n",
       "      <td>2024-11-25</td>\n",
       "      <td>False</td>\n",
       "      <td>358.00</td>\n",
       "    </tr>\n",
       "    <tr>\n",
       "      <th>19</th>\n",
       "      <td>307778</td>\n",
       "      <td>2024-11-26</td>\n",
       "      <td>False</td>\n",
       "      <td>200.00</td>\n",
       "    </tr>\n",
       "    <tr>\n",
       "      <th>20</th>\n",
       "      <td>307778</td>\n",
       "      <td>2024-11-26</td>\n",
       "      <td>True</td>\n",
       "      <td>510.00</td>\n",
       "    </tr>\n",
       "    <tr>\n",
       "      <th>21</th>\n",
       "      <td>307778</td>\n",
       "      <td>2024-11-28</td>\n",
       "      <td>True</td>\n",
       "      <td>170.00</td>\n",
       "    </tr>\n",
       "    <tr>\n",
       "      <th>22</th>\n",
       "      <td>307778</td>\n",
       "      <td>2024-11-29</td>\n",
       "      <td>False</td>\n",
       "      <td>802.79</td>\n",
       "    </tr>\n",
       "    <tr>\n",
       "      <th>23</th>\n",
       "      <td>307778</td>\n",
       "      <td>2024-11-29</td>\n",
       "      <td>True</td>\n",
       "      <td>170.00</td>\n",
       "    </tr>\n",
       "    <tr>\n",
       "      <th>24</th>\n",
       "      <td>307778</td>\n",
       "      <td>2024-11-30</td>\n",
       "      <td>False</td>\n",
       "      <td>1120.00</td>\n",
       "    </tr>\n",
       "    <tr>\n",
       "      <th>25</th>\n",
       "      <td>307778</td>\n",
       "      <td>2024-11-30</td>\n",
       "      <td>True</td>\n",
       "      <td>325.68</td>\n",
       "    </tr>\n",
       "    <tr>\n",
       "      <th>26</th>\n",
       "      <td>307778</td>\n",
       "      <td>2024-12-01</td>\n",
       "      <td>True</td>\n",
       "      <td>170.00</td>\n",
       "    </tr>\n",
       "    <tr>\n",
       "      <th>27</th>\n",
       "      <td>307778</td>\n",
       "      <td>2024-12-02</td>\n",
       "      <td>False</td>\n",
       "      <td>1141.00</td>\n",
       "    </tr>\n",
       "    <tr>\n",
       "      <th>28</th>\n",
       "      <td>307778</td>\n",
       "      <td>2024-12-02</td>\n",
       "      <td>True</td>\n",
       "      <td>171.41</td>\n",
       "    </tr>\n",
       "    <tr>\n",
       "      <th>29</th>\n",
       "      <td>307778</td>\n",
       "      <td>2024-12-03</td>\n",
       "      <td>False</td>\n",
       "      <td>372.63</td>\n",
       "    </tr>\n",
       "    <tr>\n",
       "      <th>30</th>\n",
       "      <td>307778</td>\n",
       "      <td>2024-12-04</td>\n",
       "      <td>False</td>\n",
       "      <td>590.06</td>\n",
       "    </tr>\n",
       "    <tr>\n",
       "      <th>31</th>\n",
       "      <td>307778</td>\n",
       "      <td>2024-12-05</td>\n",
       "      <td>True</td>\n",
       "      <td>339.98</td>\n",
       "    </tr>\n",
       "    <tr>\n",
       "      <th>32</th>\n",
       "      <td>307778</td>\n",
       "      <td>2024-12-06</td>\n",
       "      <td>False</td>\n",
       "      <td>179.99</td>\n",
       "    </tr>\n",
       "    <tr>\n",
       "      <th>33</th>\n",
       "      <td>307778</td>\n",
       "      <td>2024-12-06</td>\n",
       "      <td>True</td>\n",
       "      <td>339.98</td>\n",
       "    </tr>\n",
       "    <tr>\n",
       "      <th>34</th>\n",
       "      <td>307778</td>\n",
       "      <td>2024-12-09</td>\n",
       "      <td>False</td>\n",
       "      <td>179.99</td>\n",
       "    </tr>\n",
       "    <tr>\n",
       "      <th>35</th>\n",
       "      <td>307778</td>\n",
       "      <td>2024-12-10</td>\n",
       "      <td>False</td>\n",
       "      <td>169.90</td>\n",
       "    </tr>\n",
       "    <tr>\n",
       "      <th>36</th>\n",
       "      <td>307778</td>\n",
       "      <td>2024-12-11</td>\n",
       "      <td>False</td>\n",
       "      <td>179.99</td>\n",
       "    </tr>\n",
       "  </tbody>\n",
       "</table>\n",
       "</div>"
      ],
      "text/plain": [
       "    CAMPAIGN ID        DATE  Is Promoted  TOTAL SALES\n",
       "0        307778  2024-11-12        False       180.00\n",
       "1        307778  2024-11-13        False       527.71\n",
       "2        307778  2024-11-14        False       380.00\n",
       "3        307778  2024-11-15         True       171.41\n",
       "4        307778  2024-11-16         True       510.00\n",
       "5        307778  2024-11-17        False       175.09\n",
       "6        307778  2024-11-17         True       476.00\n",
       "7        307778  2024-11-18        False       498.60\n",
       "8        307778  2024-11-18         True       680.00\n",
       "9        307778  2024-11-19        False       534.00\n",
       "10       307778  2024-11-21        False       296.00\n",
       "11       307778  2024-11-21         True       170.00\n",
       "12       307778  2024-11-22        False       170.00\n",
       "13       307778  2024-11-22         True       510.00\n",
       "14       307778  2024-11-23        False       952.06\n",
       "15       307778  2024-11-23         True       476.01\n",
       "16       307778  2024-11-24        False       320.00\n",
       "17       307778  2024-11-24         True       510.00\n",
       "18       307778  2024-11-25        False       358.00\n",
       "19       307778  2024-11-26        False       200.00\n",
       "20       307778  2024-11-26         True       510.00\n",
       "21       307778  2024-11-28         True       170.00\n",
       "22       307778  2024-11-29        False       802.79\n",
       "23       307778  2024-11-29         True       170.00\n",
       "24       307778  2024-11-30        False      1120.00\n",
       "25       307778  2024-11-30         True       325.68\n",
       "26       307778  2024-12-01         True       170.00\n",
       "27       307778  2024-12-02        False      1141.00\n",
       "28       307778  2024-12-02         True       171.41\n",
       "29       307778  2024-12-03        False       372.63\n",
       "30       307778  2024-12-04        False       590.06\n",
       "31       307778  2024-12-05         True       339.98\n",
       "32       307778  2024-12-06        False       179.99\n",
       "33       307778  2024-12-06         True       339.98\n",
       "34       307778  2024-12-09        False       179.99\n",
       "35       307778  2024-12-10        False       169.90\n",
       "36       307778  2024-12-11        False       179.99"
      ]
     },
     "execution_count": 31,
     "metadata": {},
     "output_type": "execute_result"
    }
   ],
   "source": [
    "grouped_sales"
   ]
  },
  {
   "cell_type": "code",
   "execution_count": 32,
   "metadata": {},
   "outputs": [
    {
     "data": {
      "text/html": [
       "<div>\n",
       "<style scoped>\n",
       "    .dataframe tbody tr th:only-of-type {\n",
       "        vertical-align: middle;\n",
       "    }\n",
       "\n",
       "    .dataframe tbody tr th {\n",
       "        vertical-align: top;\n",
       "    }\n",
       "\n",
       "    .dataframe thead th {\n",
       "        text-align: right;\n",
       "    }\n",
       "</style>\n",
       "<table border=\"1\" class=\"dataframe\">\n",
       "  <thead>\n",
       "    <tr style=\"text-align: right;\">\n",
       "      <th></th>\n",
       "      <th>CAMPAIGN ID</th>\n",
       "      <th>Is Promoted</th>\n",
       "      <th>TOTAL SALES</th>\n",
       "    </tr>\n",
       "  </thead>\n",
       "  <tbody>\n",
       "    <tr>\n",
       "      <th>0</th>\n",
       "      <td>307778</td>\n",
       "      <td>False</td>\n",
       "      <td>9327.81</td>\n",
       "    </tr>\n",
       "    <tr>\n",
       "      <th>1</th>\n",
       "      <td>307778</td>\n",
       "      <td>True</td>\n",
       "      <td>5700.47</td>\n",
       "    </tr>\n",
       "  </tbody>\n",
       "</table>\n",
       "</div>"
      ],
      "text/plain": [
       "   CAMPAIGN ID  Is Promoted  TOTAL SALES\n",
       "0       307778        False      9327.81\n",
       "1       307778         True      5700.47"
      ]
     },
     "execution_count": 32,
     "metadata": {},
     "output_type": "execute_result"
    }
   ],
   "source": [
    "cycle_sales = grouped_sales.groupby(['CAMPAIGN ID', 'Is Promoted'])['TOTAL SALES'].sum().reset_index()\n",
    "cycle_sales"
   ]
  },
  {
   "cell_type": "code",
   "execution_count": 33,
   "metadata": {},
   "outputs": [],
   "source": [
    "# 计算 Campaign ID 的总销售额\n",
    "total_sales_per_campaign = cycle_sales.groupby('CAMPAIGN ID')['TOTAL SALES'].sum().reset_index()\n",
    "total_sales_per_campaign.rename(columns={'TOTAL SALES': 'Total Sales'}, inplace=True)"
   ]
  },
  {
   "cell_type": "code",
   "execution_count": 34,
   "metadata": {},
   "outputs": [
    {
     "data": {
      "text/html": [
       "<div>\n",
       "<style scoped>\n",
       "    .dataframe tbody tr th:only-of-type {\n",
       "        vertical-align: middle;\n",
       "    }\n",
       "\n",
       "    .dataframe tbody tr th {\n",
       "        vertical-align: top;\n",
       "    }\n",
       "\n",
       "    .dataframe thead th {\n",
       "        text-align: right;\n",
       "    }\n",
       "</style>\n",
       "<table border=\"1\" class=\"dataframe\">\n",
       "  <thead>\n",
       "    <tr style=\"text-align: right;\">\n",
       "      <th></th>\n",
       "      <th>CAMPAIGN ID</th>\n",
       "      <th>Total Sales</th>\n",
       "    </tr>\n",
       "  </thead>\n",
       "  <tbody>\n",
       "    <tr>\n",
       "      <th>0</th>\n",
       "      <td>307778</td>\n",
       "      <td>15028.28</td>\n",
       "    </tr>\n",
       "  </tbody>\n",
       "</table>\n",
       "</div>"
      ],
      "text/plain": [
       "   CAMPAIGN ID  Total Sales\n",
       "0       307778     15028.28"
      ]
     },
     "execution_count": 34,
     "metadata": {},
     "output_type": "execute_result"
    }
   ],
   "source": [
    "total_sales_per_campaign"
   ]
  },
  {
   "cell_type": "code",
   "execution_count": 35,
   "metadata": {},
   "outputs": [
    {
     "data": {
      "text/html": [
       "<div>\n",
       "<style scoped>\n",
       "    .dataframe tbody tr th:only-of-type {\n",
       "        vertical-align: middle;\n",
       "    }\n",
       "\n",
       "    .dataframe tbody tr th {\n",
       "        vertical-align: top;\n",
       "    }\n",
       "\n",
       "    .dataframe thead th {\n",
       "        text-align: right;\n",
       "    }\n",
       "</style>\n",
       "<table border=\"1\" class=\"dataframe\">\n",
       "  <thead>\n",
       "    <tr style=\"text-align: right;\">\n",
       "      <th></th>\n",
       "      <th>CAMPAIGN ID</th>\n",
       "      <th>Is Promoted</th>\n",
       "      <th>TOTAL SALES</th>\n",
       "      <th>Total Sales</th>\n",
       "    </tr>\n",
       "  </thead>\n",
       "  <tbody>\n",
       "    <tr>\n",
       "      <th>0</th>\n",
       "      <td>307778</td>\n",
       "      <td>False</td>\n",
       "      <td>9327.81</td>\n",
       "      <td>15028.28</td>\n",
       "    </tr>\n",
       "    <tr>\n",
       "      <th>1</th>\n",
       "      <td>307778</td>\n",
       "      <td>True</td>\n",
       "      <td>5700.47</td>\n",
       "      <td>15028.28</td>\n",
       "    </tr>\n",
       "  </tbody>\n",
       "</table>\n",
       "</div>"
      ],
      "text/plain": [
       "   CAMPAIGN ID  Is Promoted  TOTAL SALES  Total Sales\n",
       "0       307778        False      9327.81     15028.28\n",
       "1       307778         True      5700.47     15028.28"
      ]
     },
     "execution_count": 35,
     "metadata": {},
     "output_type": "execute_result"
    }
   ],
   "source": [
    "cycle_sales = cycle_sales.merge(total_sales_per_campaign, on='CAMPAIGN ID')\n",
    "cycle_sales"
   ]
  },
  {
   "cell_type": "code",
   "execution_count": 36,
   "metadata": {},
   "outputs": [],
   "source": [
    "cycle_sales['Sales Contribution (%)'] = (cycle_sales['TOTAL SALES'] / cycle_sales['Total Sales']) * 100\n"
   ]
  },
  {
   "cell_type": "code",
   "execution_count": 37,
   "metadata": {},
   "outputs": [
    {
     "data": {
      "text/html": [
       "<div>\n",
       "<style scoped>\n",
       "    .dataframe tbody tr th:only-of-type {\n",
       "        vertical-align: middle;\n",
       "    }\n",
       "\n",
       "    .dataframe tbody tr th {\n",
       "        vertical-align: top;\n",
       "    }\n",
       "\n",
       "    .dataframe thead th {\n",
       "        text-align: right;\n",
       "    }\n",
       "</style>\n",
       "<table border=\"1\" class=\"dataframe\">\n",
       "  <thead>\n",
       "    <tr style=\"text-align: right;\">\n",
       "      <th></th>\n",
       "      <th>CAMPAIGN ID</th>\n",
       "      <th>Is Promoted</th>\n",
       "      <th>TOTAL SALES</th>\n",
       "      <th>Total Sales</th>\n",
       "      <th>Sales Contribution (%)</th>\n",
       "    </tr>\n",
       "  </thead>\n",
       "  <tbody>\n",
       "    <tr>\n",
       "      <th>0</th>\n",
       "      <td>307778</td>\n",
       "      <td>False</td>\n",
       "      <td>9327.81</td>\n",
       "      <td>15028.28</td>\n",
       "      <td>62.06838</td>\n",
       "    </tr>\n",
       "    <tr>\n",
       "      <th>1</th>\n",
       "      <td>307778</td>\n",
       "      <td>True</td>\n",
       "      <td>5700.47</td>\n",
       "      <td>15028.28</td>\n",
       "      <td>37.93162</td>\n",
       "    </tr>\n",
       "  </tbody>\n",
       "</table>\n",
       "</div>"
      ],
      "text/plain": [
       "   CAMPAIGN ID  Is Promoted  TOTAL SALES  Total Sales  Sales Contribution (%)\n",
       "0       307778        False      9327.81     15028.28                62.06838\n",
       "1       307778         True      5700.47     15028.28                37.93162"
      ]
     },
     "execution_count": 37,
     "metadata": {},
     "output_type": "execute_result"
    }
   ],
   "source": [
    "cycle_sales"
   ]
  },
  {
   "cell_type": "code",
   "execution_count": 38,
   "metadata": {},
   "outputs": [],
   "source": [
    "cycle_sales['Category'] = cycle_sales['Is Promoted'].map({True: 'Promoted SKU', False: 'Non-Promoted SKU'})\n",
    "import plotly.express as px\n"
   ]
  },
  {
   "cell_type": "code",
   "execution_count": 39,
   "metadata": {},
   "outputs": [
    {
     "data": {
      "text/html": [
       "<div>\n",
       "<style scoped>\n",
       "    .dataframe tbody tr th:only-of-type {\n",
       "        vertical-align: middle;\n",
       "    }\n",
       "\n",
       "    .dataframe tbody tr th {\n",
       "        vertical-align: top;\n",
       "    }\n",
       "\n",
       "    .dataframe thead th {\n",
       "        text-align: right;\n",
       "    }\n",
       "</style>\n",
       "<table border=\"1\" class=\"dataframe\">\n",
       "  <thead>\n",
       "    <tr style=\"text-align: right;\">\n",
       "      <th></th>\n",
       "      <th>CAMPAIGN ID</th>\n",
       "      <th>Is Promoted</th>\n",
       "      <th>TOTAL SALES</th>\n",
       "      <th>Total Sales</th>\n",
       "      <th>Sales Contribution (%)</th>\n",
       "      <th>Category</th>\n",
       "    </tr>\n",
       "  </thead>\n",
       "  <tbody>\n",
       "    <tr>\n",
       "      <th>0</th>\n",
       "      <td>307778</td>\n",
       "      <td>False</td>\n",
       "      <td>9327.81</td>\n",
       "      <td>15028.28</td>\n",
       "      <td>62.06838</td>\n",
       "      <td>Non-Promoted SKU</td>\n",
       "    </tr>\n",
       "    <tr>\n",
       "      <th>1</th>\n",
       "      <td>307778</td>\n",
       "      <td>True</td>\n",
       "      <td>5700.47</td>\n",
       "      <td>15028.28</td>\n",
       "      <td>37.93162</td>\n",
       "      <td>Promoted SKU</td>\n",
       "    </tr>\n",
       "  </tbody>\n",
       "</table>\n",
       "</div>"
      ],
      "text/plain": [
       "   CAMPAIGN ID  Is Promoted  TOTAL SALES  Total Sales  Sales Contribution (%)  \\\n",
       "0       307778        False      9327.81     15028.28                62.06838   \n",
       "1       307778         True      5700.47     15028.28                37.93162   \n",
       "\n",
       "           Category  \n",
       "0  Non-Promoted SKU  \n",
       "1      Promoted SKU  "
      ]
     },
     "execution_count": 39,
     "metadata": {},
     "output_type": "execute_result"
    }
   ],
   "source": [
    "cycle_sales"
   ]
  },
  {
   "cell_type": "code",
   "execution_count": 40,
   "metadata": {},
   "outputs": [
    {
     "data": {
      "application/vnd.plotly.v1+json": {
       "config": {
        "plotlyServerURL": "https://plot.ly"
       },
       "data": [
        {
         "customdata": [
          [
           "Non-Promoted SKU"
          ],
          [
           "Promoted SKU"
          ]
         ],
         "domain": {
          "x": [
           0,
           1
          ],
          "y": [
           0,
           1
          ]
         },
         "hovertemplate": "CAMPAIGN ID=307778<br>Category=%{customdata[0]}<br>Sales Contribution (%)=%{value}<extra></extra>",
         "labels": [
          "Non-Promoted SKU",
          "Promoted SKU"
         ],
         "legendgroup": "",
         "marker": {
          "colors": [
           "orange",
           "blue"
          ]
         },
         "name": "",
         "showlegend": true,
         "textinfo": "percent+label",
         "type": "pie",
         "values": [
          62.06838041346049,
          37.93161958653952
         ]
        }
       ],
       "layout": {
        "annotations": [
         {
          "font": {},
          "showarrow": false,
          "text": "CAMPAIGN ID=307778",
          "x": 0.5,
          "xanchor": "center",
          "xref": "paper",
          "y": 1,
          "yanchor": "bottom",
          "yref": "paper"
         }
        ],
        "legend": {
         "tracegroupgap": 0
        },
        "template": {
         "data": {
          "bar": [
           {
            "error_x": {
             "color": "#2a3f5f"
            },
            "error_y": {
             "color": "#2a3f5f"
            },
            "marker": {
             "line": {
              "color": "#E5ECF6",
              "width": 0.5
             },
             "pattern": {
              "fillmode": "overlay",
              "size": 10,
              "solidity": 0.2
             }
            },
            "type": "bar"
           }
          ],
          "barpolar": [
           {
            "marker": {
             "line": {
              "color": "#E5ECF6",
              "width": 0.5
             },
             "pattern": {
              "fillmode": "overlay",
              "size": 10,
              "solidity": 0.2
             }
            },
            "type": "barpolar"
           }
          ],
          "carpet": [
           {
            "aaxis": {
             "endlinecolor": "#2a3f5f",
             "gridcolor": "white",
             "linecolor": "white",
             "minorgridcolor": "white",
             "startlinecolor": "#2a3f5f"
            },
            "baxis": {
             "endlinecolor": "#2a3f5f",
             "gridcolor": "white",
             "linecolor": "white",
             "minorgridcolor": "white",
             "startlinecolor": "#2a3f5f"
            },
            "type": "carpet"
           }
          ],
          "choropleth": [
           {
            "colorbar": {
             "outlinewidth": 0,
             "ticks": ""
            },
            "type": "choropleth"
           }
          ],
          "contour": [
           {
            "colorbar": {
             "outlinewidth": 0,
             "ticks": ""
            },
            "colorscale": [
             [
              0,
              "#0d0887"
             ],
             [
              0.1111111111111111,
              "#46039f"
             ],
             [
              0.2222222222222222,
              "#7201a8"
             ],
             [
              0.3333333333333333,
              "#9c179e"
             ],
             [
              0.4444444444444444,
              "#bd3786"
             ],
             [
              0.5555555555555556,
              "#d8576b"
             ],
             [
              0.6666666666666666,
              "#ed7953"
             ],
             [
              0.7777777777777778,
              "#fb9f3a"
             ],
             [
              0.8888888888888888,
              "#fdca26"
             ],
             [
              1,
              "#f0f921"
             ]
            ],
            "type": "contour"
           }
          ],
          "contourcarpet": [
           {
            "colorbar": {
             "outlinewidth": 0,
             "ticks": ""
            },
            "type": "contourcarpet"
           }
          ],
          "heatmap": [
           {
            "colorbar": {
             "outlinewidth": 0,
             "ticks": ""
            },
            "colorscale": [
             [
              0,
              "#0d0887"
             ],
             [
              0.1111111111111111,
              "#46039f"
             ],
             [
              0.2222222222222222,
              "#7201a8"
             ],
             [
              0.3333333333333333,
              "#9c179e"
             ],
             [
              0.4444444444444444,
              "#bd3786"
             ],
             [
              0.5555555555555556,
              "#d8576b"
             ],
             [
              0.6666666666666666,
              "#ed7953"
             ],
             [
              0.7777777777777778,
              "#fb9f3a"
             ],
             [
              0.8888888888888888,
              "#fdca26"
             ],
             [
              1,
              "#f0f921"
             ]
            ],
            "type": "heatmap"
           }
          ],
          "heatmapgl": [
           {
            "colorbar": {
             "outlinewidth": 0,
             "ticks": ""
            },
            "colorscale": [
             [
              0,
              "#0d0887"
             ],
             [
              0.1111111111111111,
              "#46039f"
             ],
             [
              0.2222222222222222,
              "#7201a8"
             ],
             [
              0.3333333333333333,
              "#9c179e"
             ],
             [
              0.4444444444444444,
              "#bd3786"
             ],
             [
              0.5555555555555556,
              "#d8576b"
             ],
             [
              0.6666666666666666,
              "#ed7953"
             ],
             [
              0.7777777777777778,
              "#fb9f3a"
             ],
             [
              0.8888888888888888,
              "#fdca26"
             ],
             [
              1,
              "#f0f921"
             ]
            ],
            "type": "heatmapgl"
           }
          ],
          "histogram": [
           {
            "marker": {
             "pattern": {
              "fillmode": "overlay",
              "size": 10,
              "solidity": 0.2
             }
            },
            "type": "histogram"
           }
          ],
          "histogram2d": [
           {
            "colorbar": {
             "outlinewidth": 0,
             "ticks": ""
            },
            "colorscale": [
             [
              0,
              "#0d0887"
             ],
             [
              0.1111111111111111,
              "#46039f"
             ],
             [
              0.2222222222222222,
              "#7201a8"
             ],
             [
              0.3333333333333333,
              "#9c179e"
             ],
             [
              0.4444444444444444,
              "#bd3786"
             ],
             [
              0.5555555555555556,
              "#d8576b"
             ],
             [
              0.6666666666666666,
              "#ed7953"
             ],
             [
              0.7777777777777778,
              "#fb9f3a"
             ],
             [
              0.8888888888888888,
              "#fdca26"
             ],
             [
              1,
              "#f0f921"
             ]
            ],
            "type": "histogram2d"
           }
          ],
          "histogram2dcontour": [
           {
            "colorbar": {
             "outlinewidth": 0,
             "ticks": ""
            },
            "colorscale": [
             [
              0,
              "#0d0887"
             ],
             [
              0.1111111111111111,
              "#46039f"
             ],
             [
              0.2222222222222222,
              "#7201a8"
             ],
             [
              0.3333333333333333,
              "#9c179e"
             ],
             [
              0.4444444444444444,
              "#bd3786"
             ],
             [
              0.5555555555555556,
              "#d8576b"
             ],
             [
              0.6666666666666666,
              "#ed7953"
             ],
             [
              0.7777777777777778,
              "#fb9f3a"
             ],
             [
              0.8888888888888888,
              "#fdca26"
             ],
             [
              1,
              "#f0f921"
             ]
            ],
            "type": "histogram2dcontour"
           }
          ],
          "mesh3d": [
           {
            "colorbar": {
             "outlinewidth": 0,
             "ticks": ""
            },
            "type": "mesh3d"
           }
          ],
          "parcoords": [
           {
            "line": {
             "colorbar": {
              "outlinewidth": 0,
              "ticks": ""
             }
            },
            "type": "parcoords"
           }
          ],
          "pie": [
           {
            "automargin": true,
            "type": "pie"
           }
          ],
          "scatter": [
           {
            "fillpattern": {
             "fillmode": "overlay",
             "size": 10,
             "solidity": 0.2
            },
            "type": "scatter"
           }
          ],
          "scatter3d": [
           {
            "line": {
             "colorbar": {
              "outlinewidth": 0,
              "ticks": ""
             }
            },
            "marker": {
             "colorbar": {
              "outlinewidth": 0,
              "ticks": ""
             }
            },
            "type": "scatter3d"
           }
          ],
          "scattercarpet": [
           {
            "marker": {
             "colorbar": {
              "outlinewidth": 0,
              "ticks": ""
             }
            },
            "type": "scattercarpet"
           }
          ],
          "scattergeo": [
           {
            "marker": {
             "colorbar": {
              "outlinewidth": 0,
              "ticks": ""
             }
            },
            "type": "scattergeo"
           }
          ],
          "scattergl": [
           {
            "marker": {
             "colorbar": {
              "outlinewidth": 0,
              "ticks": ""
             }
            },
            "type": "scattergl"
           }
          ],
          "scattermapbox": [
           {
            "marker": {
             "colorbar": {
              "outlinewidth": 0,
              "ticks": ""
             }
            },
            "type": "scattermapbox"
           }
          ],
          "scatterpolar": [
           {
            "marker": {
             "colorbar": {
              "outlinewidth": 0,
              "ticks": ""
             }
            },
            "type": "scatterpolar"
           }
          ],
          "scatterpolargl": [
           {
            "marker": {
             "colorbar": {
              "outlinewidth": 0,
              "ticks": ""
             }
            },
            "type": "scatterpolargl"
           }
          ],
          "scatterternary": [
           {
            "marker": {
             "colorbar": {
              "outlinewidth": 0,
              "ticks": ""
             }
            },
            "type": "scatterternary"
           }
          ],
          "surface": [
           {
            "colorbar": {
             "outlinewidth": 0,
             "ticks": ""
            },
            "colorscale": [
             [
              0,
              "#0d0887"
             ],
             [
              0.1111111111111111,
              "#46039f"
             ],
             [
              0.2222222222222222,
              "#7201a8"
             ],
             [
              0.3333333333333333,
              "#9c179e"
             ],
             [
              0.4444444444444444,
              "#bd3786"
             ],
             [
              0.5555555555555556,
              "#d8576b"
             ],
             [
              0.6666666666666666,
              "#ed7953"
             ],
             [
              0.7777777777777778,
              "#fb9f3a"
             ],
             [
              0.8888888888888888,
              "#fdca26"
             ],
             [
              1,
              "#f0f921"
             ]
            ],
            "type": "surface"
           }
          ],
          "table": [
           {
            "cells": {
             "fill": {
              "color": "#EBF0F8"
             },
             "line": {
              "color": "white"
             }
            },
            "header": {
             "fill": {
              "color": "#C8D4E3"
             },
             "line": {
              "color": "white"
             }
            },
            "type": "table"
           }
          ]
         },
         "layout": {
          "annotationdefaults": {
           "arrowcolor": "#2a3f5f",
           "arrowhead": 0,
           "arrowwidth": 1
          },
          "autotypenumbers": "strict",
          "coloraxis": {
           "colorbar": {
            "outlinewidth": 0,
            "ticks": ""
           }
          },
          "colorscale": {
           "diverging": [
            [
             0,
             "#8e0152"
            ],
            [
             0.1,
             "#c51b7d"
            ],
            [
             0.2,
             "#de77ae"
            ],
            [
             0.3,
             "#f1b6da"
            ],
            [
             0.4,
             "#fde0ef"
            ],
            [
             0.5,
             "#f7f7f7"
            ],
            [
             0.6,
             "#e6f5d0"
            ],
            [
             0.7,
             "#b8e186"
            ],
            [
             0.8,
             "#7fbc41"
            ],
            [
             0.9,
             "#4d9221"
            ],
            [
             1,
             "#276419"
            ]
           ],
           "sequential": [
            [
             0,
             "#0d0887"
            ],
            [
             0.1111111111111111,
             "#46039f"
            ],
            [
             0.2222222222222222,
             "#7201a8"
            ],
            [
             0.3333333333333333,
             "#9c179e"
            ],
            [
             0.4444444444444444,
             "#bd3786"
            ],
            [
             0.5555555555555556,
             "#d8576b"
            ],
            [
             0.6666666666666666,
             "#ed7953"
            ],
            [
             0.7777777777777778,
             "#fb9f3a"
            ],
            [
             0.8888888888888888,
             "#fdca26"
            ],
            [
             1,
             "#f0f921"
            ]
           ],
           "sequentialminus": [
            [
             0,
             "#0d0887"
            ],
            [
             0.1111111111111111,
             "#46039f"
            ],
            [
             0.2222222222222222,
             "#7201a8"
            ],
            [
             0.3333333333333333,
             "#9c179e"
            ],
            [
             0.4444444444444444,
             "#bd3786"
            ],
            [
             0.5555555555555556,
             "#d8576b"
            ],
            [
             0.6666666666666666,
             "#ed7953"
            ],
            [
             0.7777777777777778,
             "#fb9f3a"
            ],
            [
             0.8888888888888888,
             "#fdca26"
            ],
            [
             1,
             "#f0f921"
            ]
           ]
          },
          "colorway": [
           "#636efa",
           "#EF553B",
           "#00cc96",
           "#ab63fa",
           "#FFA15A",
           "#19d3f3",
           "#FF6692",
           "#B6E880",
           "#FF97FF",
           "#FECB52"
          ],
          "font": {
           "color": "#2a3f5f"
          },
          "geo": {
           "bgcolor": "white",
           "lakecolor": "white",
           "landcolor": "#E5ECF6",
           "showlakes": true,
           "showland": true,
           "subunitcolor": "white"
          },
          "hoverlabel": {
           "align": "left"
          },
          "hovermode": "closest",
          "mapbox": {
           "style": "light"
          },
          "paper_bgcolor": "white",
          "plot_bgcolor": "#E5ECF6",
          "polar": {
           "angularaxis": {
            "gridcolor": "white",
            "linecolor": "white",
            "ticks": ""
           },
           "bgcolor": "#E5ECF6",
           "radialaxis": {
            "gridcolor": "white",
            "linecolor": "white",
            "ticks": ""
           }
          },
          "scene": {
           "xaxis": {
            "backgroundcolor": "#E5ECF6",
            "gridcolor": "white",
            "gridwidth": 2,
            "linecolor": "white",
            "showbackground": true,
            "ticks": "",
            "zerolinecolor": "white"
           },
           "yaxis": {
            "backgroundcolor": "#E5ECF6",
            "gridcolor": "white",
            "gridwidth": 2,
            "linecolor": "white",
            "showbackground": true,
            "ticks": "",
            "zerolinecolor": "white"
           },
           "zaxis": {
            "backgroundcolor": "#E5ECF6",
            "gridcolor": "white",
            "gridwidth": 2,
            "linecolor": "white",
            "showbackground": true,
            "ticks": "",
            "zerolinecolor": "white"
           }
          },
          "shapedefaults": {
           "line": {
            "color": "#2a3f5f"
           }
          },
          "ternary": {
           "aaxis": {
            "gridcolor": "white",
            "linecolor": "white",
            "ticks": ""
           },
           "baxis": {
            "gridcolor": "white",
            "linecolor": "white",
            "ticks": ""
           },
           "bgcolor": "#E5ECF6",
           "caxis": {
            "gridcolor": "white",
            "linecolor": "white",
            "ticks": ""
           }
          },
          "title": {
           "x": 0.05
          },
          "xaxis": {
           "automargin": true,
           "gridcolor": "white",
           "linecolor": "white",
           "ticks": "",
           "title": {
            "standoff": 15
           },
           "zerolinecolor": "white",
           "zerolinewidth": 2
          },
          "yaxis": {
           "automargin": true,
           "gridcolor": "white",
           "linecolor": "white",
           "ticks": "",
           "title": {
            "standoff": 15
           },
           "zerolinecolor": "white",
           "zerolinewidth": 2
          }
         }
        },
        "title": {
         "text": "Promoted vs Non-Promoted SKU Contribution (Cycle-wide)"
        }
       }
      }
     },
     "metadata": {},
     "output_type": "display_data"
    }
   ],
   "source": [
    "# Plotly 饼图\n",
    "fig = px.pie(\n",
    "    cycle_sales, \n",
    "    names='Category', \n",
    "    values='Sales Contribution (%)', \n",
    "    color='Category',\n",
    "    facet_col='CAMPAIGN ID', \n",
    "    title='Promoted vs Non-Promoted SKU Contribution (Cycle-wide)',\n",
    "    color_discrete_map={'Promoted SKU': 'blue', 'Non-Promoted SKU': 'orange'}\n",
    ")\n",
    "fig.update_traces(textinfo='percent+label')\n",
    "fig.show()"
   ]
  },
  {
   "cell_type": "code",
   "execution_count": 49,
   "metadata": {},
   "outputs": [
    {
     "data": {
      "text/html": [
       "<div>\n",
       "<style scoped>\n",
       "    .dataframe tbody tr th:only-of-type {\n",
       "        vertical-align: middle;\n",
       "    }\n",
       "\n",
       "    .dataframe tbody tr th {\n",
       "        vertical-align: top;\n",
       "    }\n",
       "\n",
       "    .dataframe thead th {\n",
       "        text-align: right;\n",
       "    }\n",
       "</style>\n",
       "<table border=\"1\" class=\"dataframe\">\n",
       "  <thead>\n",
       "    <tr style=\"text-align: right;\">\n",
       "      <th></th>\n",
       "      <th>CAMPAIGN ID</th>\n",
       "      <th>DATE</th>\n",
       "      <th>Is Promoted</th>\n",
       "      <th>TOTAL SALES</th>\n",
       "    </tr>\n",
       "  </thead>\n",
       "  <tbody>\n",
       "    <tr>\n",
       "      <th>0</th>\n",
       "      <td>264072</td>\n",
       "      <td>2024-11-14</td>\n",
       "      <td>False</td>\n",
       "      <td>21.89</td>\n",
       "    </tr>\n",
       "    <tr>\n",
       "      <th>1</th>\n",
       "      <td>264072</td>\n",
       "      <td>2024-11-14</td>\n",
       "      <td>True</td>\n",
       "      <td>300.00</td>\n",
       "    </tr>\n",
       "    <tr>\n",
       "      <th>2</th>\n",
       "      <td>264072</td>\n",
       "      <td>2024-11-15</td>\n",
       "      <td>False</td>\n",
       "      <td>259.34</td>\n",
       "    </tr>\n",
       "    <tr>\n",
       "      <th>3</th>\n",
       "      <td>264072</td>\n",
       "      <td>2024-11-15</td>\n",
       "      <td>True</td>\n",
       "      <td>1755.00</td>\n",
       "    </tr>\n",
       "    <tr>\n",
       "      <th>4</th>\n",
       "      <td>264072</td>\n",
       "      <td>2024-11-16</td>\n",
       "      <td>True</td>\n",
       "      <td>300.00</td>\n",
       "    </tr>\n",
       "    <tr>\n",
       "      <th>5</th>\n",
       "      <td>264072</td>\n",
       "      <td>2024-11-17</td>\n",
       "      <td>False</td>\n",
       "      <td>290.00</td>\n",
       "    </tr>\n",
       "    <tr>\n",
       "      <th>6</th>\n",
       "      <td>264072</td>\n",
       "      <td>2024-11-18</td>\n",
       "      <td>False</td>\n",
       "      <td>150.00</td>\n",
       "    </tr>\n",
       "    <tr>\n",
       "      <th>7</th>\n",
       "      <td>264072</td>\n",
       "      <td>2024-11-19</td>\n",
       "      <td>False</td>\n",
       "      <td>145.50</td>\n",
       "    </tr>\n",
       "    <tr>\n",
       "      <th>8</th>\n",
       "      <td>264072</td>\n",
       "      <td>2024-11-20</td>\n",
       "      <td>False</td>\n",
       "      <td>170.00</td>\n",
       "    </tr>\n",
       "    <tr>\n",
       "      <th>9</th>\n",
       "      <td>264072</td>\n",
       "      <td>2024-11-20</td>\n",
       "      <td>True</td>\n",
       "      <td>870.00</td>\n",
       "    </tr>\n",
       "    <tr>\n",
       "      <th>10</th>\n",
       "      <td>264072</td>\n",
       "      <td>2024-11-21</td>\n",
       "      <td>False</td>\n",
       "      <td>161.02</td>\n",
       "    </tr>\n",
       "    <tr>\n",
       "      <th>11</th>\n",
       "      <td>264072</td>\n",
       "      <td>2024-11-22</td>\n",
       "      <td>False</td>\n",
       "      <td>400.00</td>\n",
       "    </tr>\n",
       "    <tr>\n",
       "      <th>12</th>\n",
       "      <td>264072</td>\n",
       "      <td>2024-11-22</td>\n",
       "      <td>True</td>\n",
       "      <td>675.00</td>\n",
       "    </tr>\n",
       "    <tr>\n",
       "      <th>13</th>\n",
       "      <td>264072</td>\n",
       "      <td>2024-11-23</td>\n",
       "      <td>True</td>\n",
       "      <td>450.00</td>\n",
       "    </tr>\n",
       "    <tr>\n",
       "      <th>14</th>\n",
       "      <td>264072</td>\n",
       "      <td>2024-11-24</td>\n",
       "      <td>False</td>\n",
       "      <td>241.06</td>\n",
       "    </tr>\n",
       "    <tr>\n",
       "      <th>15</th>\n",
       "      <td>264072</td>\n",
       "      <td>2024-11-24</td>\n",
       "      <td>True</td>\n",
       "      <td>450.00</td>\n",
       "    </tr>\n",
       "    <tr>\n",
       "      <th>16</th>\n",
       "      <td>264072</td>\n",
       "      <td>2024-11-26</td>\n",
       "      <td>False</td>\n",
       "      <td>1223.47</td>\n",
       "    </tr>\n",
       "    <tr>\n",
       "      <th>17</th>\n",
       "      <td>264072</td>\n",
       "      <td>2024-11-26</td>\n",
       "      <td>True</td>\n",
       "      <td>720.00</td>\n",
       "    </tr>\n",
       "    <tr>\n",
       "      <th>18</th>\n",
       "      <td>264072</td>\n",
       "      <td>2024-11-27</td>\n",
       "      <td>True</td>\n",
       "      <td>435.00</td>\n",
       "    </tr>\n",
       "    <tr>\n",
       "      <th>19</th>\n",
       "      <td>264072</td>\n",
       "      <td>2024-11-28</td>\n",
       "      <td>False</td>\n",
       "      <td>150.00</td>\n",
       "    </tr>\n",
       "    <tr>\n",
       "      <th>20</th>\n",
       "      <td>264072</td>\n",
       "      <td>2024-11-28</td>\n",
       "      <td>True</td>\n",
       "      <td>750.00</td>\n",
       "    </tr>\n",
       "    <tr>\n",
       "      <th>21</th>\n",
       "      <td>264072</td>\n",
       "      <td>2024-11-29</td>\n",
       "      <td>False</td>\n",
       "      <td>740.00</td>\n",
       "    </tr>\n",
       "    <tr>\n",
       "      <th>22</th>\n",
       "      <td>264072</td>\n",
       "      <td>2024-11-29</td>\n",
       "      <td>True</td>\n",
       "      <td>1050.00</td>\n",
       "    </tr>\n",
       "    <tr>\n",
       "      <th>23</th>\n",
       "      <td>264072</td>\n",
       "      <td>2024-11-30</td>\n",
       "      <td>False</td>\n",
       "      <td>580.00</td>\n",
       "    </tr>\n",
       "    <tr>\n",
       "      <th>24</th>\n",
       "      <td>264072</td>\n",
       "      <td>2024-11-30</td>\n",
       "      <td>True</td>\n",
       "      <td>900.00</td>\n",
       "    </tr>\n",
       "    <tr>\n",
       "      <th>25</th>\n",
       "      <td>264072</td>\n",
       "      <td>2024-12-01</td>\n",
       "      <td>False</td>\n",
       "      <td>592.00</td>\n",
       "    </tr>\n",
       "    <tr>\n",
       "      <th>26</th>\n",
       "      <td>264072</td>\n",
       "      <td>2024-12-01</td>\n",
       "      <td>True</td>\n",
       "      <td>420.00</td>\n",
       "    </tr>\n",
       "    <tr>\n",
       "      <th>27</th>\n",
       "      <td>264072</td>\n",
       "      <td>2024-12-02</td>\n",
       "      <td>False</td>\n",
       "      <td>876.00</td>\n",
       "    </tr>\n",
       "    <tr>\n",
       "      <th>28</th>\n",
       "      <td>264072</td>\n",
       "      <td>2024-12-02</td>\n",
       "      <td>True</td>\n",
       "      <td>150.00</td>\n",
       "    </tr>\n",
       "    <tr>\n",
       "      <th>29</th>\n",
       "      <td>264072</td>\n",
       "      <td>2024-12-03</td>\n",
       "      <td>True</td>\n",
       "      <td>135.00</td>\n",
       "    </tr>\n",
       "    <tr>\n",
       "      <th>30</th>\n",
       "      <td>264072</td>\n",
       "      <td>2024-12-04</td>\n",
       "      <td>True</td>\n",
       "      <td>600.00</td>\n",
       "    </tr>\n",
       "    <tr>\n",
       "      <th>31</th>\n",
       "      <td>264072</td>\n",
       "      <td>2024-12-05</td>\n",
       "      <td>True</td>\n",
       "      <td>290.98</td>\n",
       "    </tr>\n",
       "    <tr>\n",
       "      <th>32</th>\n",
       "      <td>264072</td>\n",
       "      <td>2024-12-06</td>\n",
       "      <td>False</td>\n",
       "      <td>199.99</td>\n",
       "    </tr>\n",
       "    <tr>\n",
       "      <th>33</th>\n",
       "      <td>264072</td>\n",
       "      <td>2024-12-08</td>\n",
       "      <td>False</td>\n",
       "      <td>378.99</td>\n",
       "    </tr>\n",
       "    <tr>\n",
       "      <th>34</th>\n",
       "      <td>264072</td>\n",
       "      <td>2024-12-08</td>\n",
       "      <td>True</td>\n",
       "      <td>299.98</td>\n",
       "    </tr>\n",
       "    <tr>\n",
       "      <th>35</th>\n",
       "      <td>264072</td>\n",
       "      <td>2024-12-09</td>\n",
       "      <td>True</td>\n",
       "      <td>899.94</td>\n",
       "    </tr>\n",
       "    <tr>\n",
       "      <th>36</th>\n",
       "      <td>264072</td>\n",
       "      <td>2024-12-10</td>\n",
       "      <td>False</td>\n",
       "      <td>179.99</td>\n",
       "    </tr>\n",
       "    <tr>\n",
       "      <th>37</th>\n",
       "      <td>264072</td>\n",
       "      <td>2024-12-10</td>\n",
       "      <td>True</td>\n",
       "      <td>149.99</td>\n",
       "    </tr>\n",
       "    <tr>\n",
       "      <th>38</th>\n",
       "      <td>264072</td>\n",
       "      <td>2024-12-11</td>\n",
       "      <td>False</td>\n",
       "      <td>225.63</td>\n",
       "    </tr>\n",
       "  </tbody>\n",
       "</table>\n",
       "</div>"
      ],
      "text/plain": [
       "    CAMPAIGN ID        DATE  Is Promoted  TOTAL SALES\n",
       "0        264072  2024-11-14        False        21.89\n",
       "1        264072  2024-11-14         True       300.00\n",
       "2        264072  2024-11-15        False       259.34\n",
       "3        264072  2024-11-15         True      1755.00\n",
       "4        264072  2024-11-16         True       300.00\n",
       "5        264072  2024-11-17        False       290.00\n",
       "6        264072  2024-11-18        False       150.00\n",
       "7        264072  2024-11-19        False       145.50\n",
       "8        264072  2024-11-20        False       170.00\n",
       "9        264072  2024-11-20         True       870.00\n",
       "10       264072  2024-11-21        False       161.02\n",
       "11       264072  2024-11-22        False       400.00\n",
       "12       264072  2024-11-22         True       675.00\n",
       "13       264072  2024-11-23         True       450.00\n",
       "14       264072  2024-11-24        False       241.06\n",
       "15       264072  2024-11-24         True       450.00\n",
       "16       264072  2024-11-26        False      1223.47\n",
       "17       264072  2024-11-26         True       720.00\n",
       "18       264072  2024-11-27         True       435.00\n",
       "19       264072  2024-11-28        False       150.00\n",
       "20       264072  2024-11-28         True       750.00\n",
       "21       264072  2024-11-29        False       740.00\n",
       "22       264072  2024-11-29         True      1050.00\n",
       "23       264072  2024-11-30        False       580.00\n",
       "24       264072  2024-11-30         True       900.00\n",
       "25       264072  2024-12-01        False       592.00\n",
       "26       264072  2024-12-01         True       420.00\n",
       "27       264072  2024-12-02        False       876.00\n",
       "28       264072  2024-12-02         True       150.00\n",
       "29       264072  2024-12-03         True       135.00\n",
       "30       264072  2024-12-04         True       600.00\n",
       "31       264072  2024-12-05         True       290.98\n",
       "32       264072  2024-12-06        False       199.99\n",
       "33       264072  2024-12-08        False       378.99\n",
       "34       264072  2024-12-08         True       299.98\n",
       "35       264072  2024-12-09         True       899.94\n",
       "36       264072  2024-12-10        False       179.99\n",
       "37       264072  2024-12-10         True       149.99\n",
       "38       264072  2024-12-11        False       225.63"
      ]
     },
     "execution_count": 49,
     "metadata": {},
     "output_type": "execute_result"
    }
   ],
   "source": [
    "grouped_sales\n"
   ]
  },
  {
   "cell_type": "code",
   "execution_count": 50,
   "metadata": {},
   "outputs": [],
   "source": [
    "grouped_sales['Category'] = grouped_sales['Is Promoted'].map({True: 'Promoted SKU', False: 'Non-Promoted SKU'})\n"
   ]
  },
  {
   "cell_type": "code",
   "execution_count": 55,
   "metadata": {},
   "outputs": [
    {
     "data": {
      "application/vnd.plotly.v1+json": {
       "config": {
        "plotlyServerURL": "https://plot.ly"
       },
       "data": [
        {
         "alignmentgroup": "True",
         "hovertemplate": "Category=Non-Promoted SKU<br>CAMPAIGN ID=264072<br>Date=%{x}<br>Sales Amount=%{y}<extra></extra>",
         "legendgroup": "Non-Promoted SKU",
         "marker": {
          "color": "orange",
          "pattern": {
           "shape": ""
          }
         },
         "name": "Non-Promoted SKU",
         "offsetgroup": "Non-Promoted SKU",
         "orientation": "v",
         "showlegend": true,
         "textposition": "auto",
         "type": "bar",
         "x": [
          "2024-11-14",
          "2024-11-15",
          "2024-11-17",
          "2024-11-18",
          "2024-11-19",
          "2024-11-20",
          "2024-11-21",
          "2024-11-22",
          "2024-11-24",
          "2024-11-26",
          "2024-11-28",
          "2024-11-29",
          "2024-11-30",
          "2024-12-01",
          "2024-12-02",
          "2024-12-06",
          "2024-12-08",
          "2024-12-10",
          "2024-12-11"
         ],
         "xaxis": "x",
         "y": [
          21.89,
          259.34000000000003,
          290,
          150,
          145.5,
          170,
          161.02,
          400,
          241.06,
          1223.47,
          150,
          740,
          580,
          592,
          876,
          199.99,
          378.99,
          179.99,
          225.63
         ],
         "yaxis": "y"
        },
        {
         "alignmentgroup": "True",
         "hovertemplate": "Category=Promoted SKU<br>CAMPAIGN ID=264072<br>Date=%{x}<br>Sales Amount=%{y}<extra></extra>",
         "legendgroup": "Promoted SKU",
         "marker": {
          "color": "blue",
          "pattern": {
           "shape": ""
          }
         },
         "name": "Promoted SKU",
         "offsetgroup": "Promoted SKU",
         "orientation": "v",
         "showlegend": true,
         "textposition": "auto",
         "type": "bar",
         "x": [
          "2024-11-14",
          "2024-11-15",
          "2024-11-16",
          "2024-11-20",
          "2024-11-22",
          "2024-11-23",
          "2024-11-24",
          "2024-11-26",
          "2024-11-27",
          "2024-11-28",
          "2024-11-29",
          "2024-11-30",
          "2024-12-01",
          "2024-12-02",
          "2024-12-03",
          "2024-12-04",
          "2024-12-05",
          "2024-12-08",
          "2024-12-09",
          "2024-12-10"
         ],
         "xaxis": "x",
         "y": [
          300,
          1755,
          300,
          870,
          675,
          450,
          450,
          720,
          435,
          750,
          1050,
          900,
          420,
          150,
          135,
          600,
          290.98,
          299.98,
          899.94,
          149.99
         ],
         "yaxis": "y"
        }
       ],
       "layout": {
        "annotations": [
         {
          "font": {},
          "showarrow": false,
          "text": "CAMPAIGN ID=264072",
          "textangle": 90,
          "x": 0.98,
          "xanchor": "left",
          "xref": "paper",
          "y": 0.5,
          "yanchor": "middle",
          "yref": "paper"
         }
        ],
        "barmode": "group",
        "legend": {
         "title": {
          "text": "Category"
         },
         "tracegroupgap": 0
        },
        "template": {
         "data": {
          "bar": [
           {
            "error_x": {
             "color": "#2a3f5f"
            },
            "error_y": {
             "color": "#2a3f5f"
            },
            "marker": {
             "line": {
              "color": "#E5ECF6",
              "width": 0.5
             },
             "pattern": {
              "fillmode": "overlay",
              "size": 10,
              "solidity": 0.2
             }
            },
            "type": "bar"
           }
          ],
          "barpolar": [
           {
            "marker": {
             "line": {
              "color": "#E5ECF6",
              "width": 0.5
             },
             "pattern": {
              "fillmode": "overlay",
              "size": 10,
              "solidity": 0.2
             }
            },
            "type": "barpolar"
           }
          ],
          "carpet": [
           {
            "aaxis": {
             "endlinecolor": "#2a3f5f",
             "gridcolor": "white",
             "linecolor": "white",
             "minorgridcolor": "white",
             "startlinecolor": "#2a3f5f"
            },
            "baxis": {
             "endlinecolor": "#2a3f5f",
             "gridcolor": "white",
             "linecolor": "white",
             "minorgridcolor": "white",
             "startlinecolor": "#2a3f5f"
            },
            "type": "carpet"
           }
          ],
          "choropleth": [
           {
            "colorbar": {
             "outlinewidth": 0,
             "ticks": ""
            },
            "type": "choropleth"
           }
          ],
          "contour": [
           {
            "colorbar": {
             "outlinewidth": 0,
             "ticks": ""
            },
            "colorscale": [
             [
              0,
              "#0d0887"
             ],
             [
              0.1111111111111111,
              "#46039f"
             ],
             [
              0.2222222222222222,
              "#7201a8"
             ],
             [
              0.3333333333333333,
              "#9c179e"
             ],
             [
              0.4444444444444444,
              "#bd3786"
             ],
             [
              0.5555555555555556,
              "#d8576b"
             ],
             [
              0.6666666666666666,
              "#ed7953"
             ],
             [
              0.7777777777777778,
              "#fb9f3a"
             ],
             [
              0.8888888888888888,
              "#fdca26"
             ],
             [
              1,
              "#f0f921"
             ]
            ],
            "type": "contour"
           }
          ],
          "contourcarpet": [
           {
            "colorbar": {
             "outlinewidth": 0,
             "ticks": ""
            },
            "type": "contourcarpet"
           }
          ],
          "heatmap": [
           {
            "colorbar": {
             "outlinewidth": 0,
             "ticks": ""
            },
            "colorscale": [
             [
              0,
              "#0d0887"
             ],
             [
              0.1111111111111111,
              "#46039f"
             ],
             [
              0.2222222222222222,
              "#7201a8"
             ],
             [
              0.3333333333333333,
              "#9c179e"
             ],
             [
              0.4444444444444444,
              "#bd3786"
             ],
             [
              0.5555555555555556,
              "#d8576b"
             ],
             [
              0.6666666666666666,
              "#ed7953"
             ],
             [
              0.7777777777777778,
              "#fb9f3a"
             ],
             [
              0.8888888888888888,
              "#fdca26"
             ],
             [
              1,
              "#f0f921"
             ]
            ],
            "type": "heatmap"
           }
          ],
          "heatmapgl": [
           {
            "colorbar": {
             "outlinewidth": 0,
             "ticks": ""
            },
            "colorscale": [
             [
              0,
              "#0d0887"
             ],
             [
              0.1111111111111111,
              "#46039f"
             ],
             [
              0.2222222222222222,
              "#7201a8"
             ],
             [
              0.3333333333333333,
              "#9c179e"
             ],
             [
              0.4444444444444444,
              "#bd3786"
             ],
             [
              0.5555555555555556,
              "#d8576b"
             ],
             [
              0.6666666666666666,
              "#ed7953"
             ],
             [
              0.7777777777777778,
              "#fb9f3a"
             ],
             [
              0.8888888888888888,
              "#fdca26"
             ],
             [
              1,
              "#f0f921"
             ]
            ],
            "type": "heatmapgl"
           }
          ],
          "histogram": [
           {
            "marker": {
             "pattern": {
              "fillmode": "overlay",
              "size": 10,
              "solidity": 0.2
             }
            },
            "type": "histogram"
           }
          ],
          "histogram2d": [
           {
            "colorbar": {
             "outlinewidth": 0,
             "ticks": ""
            },
            "colorscale": [
             [
              0,
              "#0d0887"
             ],
             [
              0.1111111111111111,
              "#46039f"
             ],
             [
              0.2222222222222222,
              "#7201a8"
             ],
             [
              0.3333333333333333,
              "#9c179e"
             ],
             [
              0.4444444444444444,
              "#bd3786"
             ],
             [
              0.5555555555555556,
              "#d8576b"
             ],
             [
              0.6666666666666666,
              "#ed7953"
             ],
             [
              0.7777777777777778,
              "#fb9f3a"
             ],
             [
              0.8888888888888888,
              "#fdca26"
             ],
             [
              1,
              "#f0f921"
             ]
            ],
            "type": "histogram2d"
           }
          ],
          "histogram2dcontour": [
           {
            "colorbar": {
             "outlinewidth": 0,
             "ticks": ""
            },
            "colorscale": [
             [
              0,
              "#0d0887"
             ],
             [
              0.1111111111111111,
              "#46039f"
             ],
             [
              0.2222222222222222,
              "#7201a8"
             ],
             [
              0.3333333333333333,
              "#9c179e"
             ],
             [
              0.4444444444444444,
              "#bd3786"
             ],
             [
              0.5555555555555556,
              "#d8576b"
             ],
             [
              0.6666666666666666,
              "#ed7953"
             ],
             [
              0.7777777777777778,
              "#fb9f3a"
             ],
             [
              0.8888888888888888,
              "#fdca26"
             ],
             [
              1,
              "#f0f921"
             ]
            ],
            "type": "histogram2dcontour"
           }
          ],
          "mesh3d": [
           {
            "colorbar": {
             "outlinewidth": 0,
             "ticks": ""
            },
            "type": "mesh3d"
           }
          ],
          "parcoords": [
           {
            "line": {
             "colorbar": {
              "outlinewidth": 0,
              "ticks": ""
             }
            },
            "type": "parcoords"
           }
          ],
          "pie": [
           {
            "automargin": true,
            "type": "pie"
           }
          ],
          "scatter": [
           {
            "fillpattern": {
             "fillmode": "overlay",
             "size": 10,
             "solidity": 0.2
            },
            "type": "scatter"
           }
          ],
          "scatter3d": [
           {
            "line": {
             "colorbar": {
              "outlinewidth": 0,
              "ticks": ""
             }
            },
            "marker": {
             "colorbar": {
              "outlinewidth": 0,
              "ticks": ""
             }
            },
            "type": "scatter3d"
           }
          ],
          "scattercarpet": [
           {
            "marker": {
             "colorbar": {
              "outlinewidth": 0,
              "ticks": ""
             }
            },
            "type": "scattercarpet"
           }
          ],
          "scattergeo": [
           {
            "marker": {
             "colorbar": {
              "outlinewidth": 0,
              "ticks": ""
             }
            },
            "type": "scattergeo"
           }
          ],
          "scattergl": [
           {
            "marker": {
             "colorbar": {
              "outlinewidth": 0,
              "ticks": ""
             }
            },
            "type": "scattergl"
           }
          ],
          "scattermapbox": [
           {
            "marker": {
             "colorbar": {
              "outlinewidth": 0,
              "ticks": ""
             }
            },
            "type": "scattermapbox"
           }
          ],
          "scatterpolar": [
           {
            "marker": {
             "colorbar": {
              "outlinewidth": 0,
              "ticks": ""
             }
            },
            "type": "scatterpolar"
           }
          ],
          "scatterpolargl": [
           {
            "marker": {
             "colorbar": {
              "outlinewidth": 0,
              "ticks": ""
             }
            },
            "type": "scatterpolargl"
           }
          ],
          "scatterternary": [
           {
            "marker": {
             "colorbar": {
              "outlinewidth": 0,
              "ticks": ""
             }
            },
            "type": "scatterternary"
           }
          ],
          "surface": [
           {
            "colorbar": {
             "outlinewidth": 0,
             "ticks": ""
            },
            "colorscale": [
             [
              0,
              "#0d0887"
             ],
             [
              0.1111111111111111,
              "#46039f"
             ],
             [
              0.2222222222222222,
              "#7201a8"
             ],
             [
              0.3333333333333333,
              "#9c179e"
             ],
             [
              0.4444444444444444,
              "#bd3786"
             ],
             [
              0.5555555555555556,
              "#d8576b"
             ],
             [
              0.6666666666666666,
              "#ed7953"
             ],
             [
              0.7777777777777778,
              "#fb9f3a"
             ],
             [
              0.8888888888888888,
              "#fdca26"
             ],
             [
              1,
              "#f0f921"
             ]
            ],
            "type": "surface"
           }
          ],
          "table": [
           {
            "cells": {
             "fill": {
              "color": "#EBF0F8"
             },
             "line": {
              "color": "white"
             }
            },
            "header": {
             "fill": {
              "color": "#C8D4E3"
             },
             "line": {
              "color": "white"
             }
            },
            "type": "table"
           }
          ]
         },
         "layout": {
          "annotationdefaults": {
           "arrowcolor": "#2a3f5f",
           "arrowhead": 0,
           "arrowwidth": 1
          },
          "autotypenumbers": "strict",
          "coloraxis": {
           "colorbar": {
            "outlinewidth": 0,
            "ticks": ""
           }
          },
          "colorscale": {
           "diverging": [
            [
             0,
             "#8e0152"
            ],
            [
             0.1,
             "#c51b7d"
            ],
            [
             0.2,
             "#de77ae"
            ],
            [
             0.3,
             "#f1b6da"
            ],
            [
             0.4,
             "#fde0ef"
            ],
            [
             0.5,
             "#f7f7f7"
            ],
            [
             0.6,
             "#e6f5d0"
            ],
            [
             0.7,
             "#b8e186"
            ],
            [
             0.8,
             "#7fbc41"
            ],
            [
             0.9,
             "#4d9221"
            ],
            [
             1,
             "#276419"
            ]
           ],
           "sequential": [
            [
             0,
             "#0d0887"
            ],
            [
             0.1111111111111111,
             "#46039f"
            ],
            [
             0.2222222222222222,
             "#7201a8"
            ],
            [
             0.3333333333333333,
             "#9c179e"
            ],
            [
             0.4444444444444444,
             "#bd3786"
            ],
            [
             0.5555555555555556,
             "#d8576b"
            ],
            [
             0.6666666666666666,
             "#ed7953"
            ],
            [
             0.7777777777777778,
             "#fb9f3a"
            ],
            [
             0.8888888888888888,
             "#fdca26"
            ],
            [
             1,
             "#f0f921"
            ]
           ],
           "sequentialminus": [
            [
             0,
             "#0d0887"
            ],
            [
             0.1111111111111111,
             "#46039f"
            ],
            [
             0.2222222222222222,
             "#7201a8"
            ],
            [
             0.3333333333333333,
             "#9c179e"
            ],
            [
             0.4444444444444444,
             "#bd3786"
            ],
            [
             0.5555555555555556,
             "#d8576b"
            ],
            [
             0.6666666666666666,
             "#ed7953"
            ],
            [
             0.7777777777777778,
             "#fb9f3a"
            ],
            [
             0.8888888888888888,
             "#fdca26"
            ],
            [
             1,
             "#f0f921"
            ]
           ]
          },
          "colorway": [
           "#636efa",
           "#EF553B",
           "#00cc96",
           "#ab63fa",
           "#FFA15A",
           "#19d3f3",
           "#FF6692",
           "#B6E880",
           "#FF97FF",
           "#FECB52"
          ],
          "font": {
           "color": "#2a3f5f"
          },
          "geo": {
           "bgcolor": "white",
           "lakecolor": "white",
           "landcolor": "#E5ECF6",
           "showlakes": true,
           "showland": true,
           "subunitcolor": "white"
          },
          "hoverlabel": {
           "align": "left"
          },
          "hovermode": "closest",
          "mapbox": {
           "style": "light"
          },
          "paper_bgcolor": "white",
          "plot_bgcolor": "#E5ECF6",
          "polar": {
           "angularaxis": {
            "gridcolor": "white",
            "linecolor": "white",
            "ticks": ""
           },
           "bgcolor": "#E5ECF6",
           "radialaxis": {
            "gridcolor": "white",
            "linecolor": "white",
            "ticks": ""
           }
          },
          "scene": {
           "xaxis": {
            "backgroundcolor": "#E5ECF6",
            "gridcolor": "white",
            "gridwidth": 2,
            "linecolor": "white",
            "showbackground": true,
            "ticks": "",
            "zerolinecolor": "white"
           },
           "yaxis": {
            "backgroundcolor": "#E5ECF6",
            "gridcolor": "white",
            "gridwidth": 2,
            "linecolor": "white",
            "showbackground": true,
            "ticks": "",
            "zerolinecolor": "white"
           },
           "zaxis": {
            "backgroundcolor": "#E5ECF6",
            "gridcolor": "white",
            "gridwidth": 2,
            "linecolor": "white",
            "showbackground": true,
            "ticks": "",
            "zerolinecolor": "white"
           }
          },
          "shapedefaults": {
           "line": {
            "color": "#2a3f5f"
           }
          },
          "ternary": {
           "aaxis": {
            "gridcolor": "white",
            "linecolor": "white",
            "ticks": ""
           },
           "baxis": {
            "gridcolor": "white",
            "linecolor": "white",
            "ticks": ""
           },
           "bgcolor": "#E5ECF6",
           "caxis": {
            "gridcolor": "white",
            "linecolor": "white",
            "ticks": ""
           }
          },
          "title": {
           "x": 0.05
          },
          "xaxis": {
           "automargin": true,
           "gridcolor": "white",
           "linecolor": "white",
           "ticks": "",
           "title": {
            "standoff": 15
           },
           "zerolinecolor": "white",
           "zerolinewidth": 2
          },
          "yaxis": {
           "automargin": true,
           "gridcolor": "white",
           "linecolor": "white",
           "ticks": "",
           "title": {
            "standoff": 15
           },
           "zerolinecolor": "white",
           "zerolinewidth": 2
          }
         }
        },
        "title": {
         "text": "Daily Sales Trend for Promoted vs Non-Promoted SKUs"
        },
        "xaxis": {
         "anchor": "y",
         "domain": [
          0,
          0.98
         ],
         "title": {
          "text": "Date"
         },
         "type": "category"
        },
        "yaxis": {
         "anchor": "x",
         "domain": [
          0,
          1
         ],
         "title": {
          "text": "Sales Amount"
         }
        }
       }
      }
     },
     "metadata": {},
     "output_type": "display_data"
    }
   ],
   "source": [
    "# Plotly 折线图\n",
    "fig = px.bar(\n",
    "    grouped_sales, \n",
    "    x='DATE', \n",
    "    y='TOTAL SALES', \n",
    "    color='Category', \n",
    "    barmode='group',\n",
    "    facet_row='CAMPAIGN ID', \n",
    "    title='Daily Sales Trend for Promoted vs Non-Promoted SKUs',\n",
    "    labels={'TOTAL SALES': 'Sales Amount', 'DATE': 'Date'},\n",
    "    color_discrete_map={'Promoted SKU': 'blue', 'Non-Promoted SKU': 'orange'}\n",
    ")\n",
    "fig.update_xaxes(type='category')  # 确保日期按顺序排列\n",
    "fig.show()"
   ]
  }
 ],
 "metadata": {
  "kernelspec": {
   "display_name": ".venv",
   "language": "python",
   "name": "python3"
  },
  "language_info": {
   "codemirror_mode": {
    "name": "ipython",
    "version": 3
   },
   "file_extension": ".py",
   "mimetype": "text/x-python",
   "name": "python",
   "nbconvert_exporter": "python",
   "pygments_lexer": "ipython3",
   "version": "3.12.4"
  }
 },
 "nbformat": 4,
 "nbformat_minor": 2
}
