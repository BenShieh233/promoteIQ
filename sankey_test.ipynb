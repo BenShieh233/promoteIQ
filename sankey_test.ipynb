{
 "cells": [
  {
   "cell_type": "code",
   "execution_count": 1,
   "metadata": {},
   "outputs": [],
   "source": [
    "import pandas as pd\n",
    "import plotly.graph_objects as go\n",
    "import plotly.colors"
   ]
  },
  {
   "cell_type": "code",
   "execution_count": 2,
   "metadata": {},
   "outputs": [
    {
     "name": "stderr",
     "output_type": "stream",
     "text": [
      "C:\\Users\\cs\\AppData\\Local\\Temp\\ipykernel_21624\\1014889224.py:11: SettingWithCopyWarning: \n",
      "A value is trying to be set on a copy of a slice from a DataFrame.\n",
      "Try using .loc[row_indexer,col_indexer] = value instead\n",
      "\n",
      "See the caveats in the documentation: https://pandas.pydata.org/pandas-docs/stable/user_guide/indexing.html#returning-a-view-versus-a-copy\n",
      "  df_cleaned['CAMPAIGN ID'] = df_cleaned['CAMPAIGN ID'].astype(str).apply(lambda x: x.split('.')[0])\n",
      "C:\\Users\\cs\\AppData\\Local\\Temp\\ipykernel_21624\\1014889224.py:12: SettingWithCopyWarning: \n",
      "A value is trying to be set on a copy of a slice from a DataFrame.\n",
      "Try using .loc[row_indexer,col_indexer] = value instead\n",
      "\n",
      "See the caveats in the documentation: https://pandas.pydata.org/pandas-docs/stable/user_guide/indexing.html#returning-a-view-versus-a-copy\n",
      "  df_cleaned['PROMOTED SKU'] = df_cleaned['PROMOTED SKU'].astype(str).apply(lambda x: x.split('.')[0])\n"
     ]
    }
   ],
   "source": [
    "# 示例数据加载\n",
    "df = pd.read_excel(\"1219campaignsummary200days20241226175207.xlsx\", skiprows=3)\n",
    "\n",
    "# 将 DATE 列转换为 datetime 类型\n",
    "df['DATE'] = pd.to_datetime(df['DATE'])\n",
    "\n",
    "# 去除包含 NaN 值的行\n",
    "df_cleaned = df.dropna(subset=['CAMPAIGN ID', 'PROMOTED SKU'])\n",
    "\n",
    "# 将 CAMPAIGN ID 和 PROMOTED SKU 转换为不带小数点的字符串\n",
    "df_cleaned['CAMPAIGN ID'] = df_cleaned['CAMPAIGN ID'].astype(str).apply(lambda x: x.split('.')[0])\n",
    "df_cleaned['PROMOTED SKU'] = df_cleaned['PROMOTED SKU'].astype(str).apply(lambda x: x.split('.')[0])\n",
    "\n",
    "df = df_cleaned.copy()"
   ]
  },
  {
   "cell_type": "code",
   "execution_count": 63,
   "metadata": {},
   "outputs": [],
   "source": [
    "unique_primary_values = df['CAMPAIGN ID'].unique()\n",
    "primary_label = 'CAMPAIGN ID'\n",
    "secondary_label = 'PROMOTED SKU'\n",
    "selected_primary = '286776'\n",
    "selected_metric = 'TOTAL SALES'\n",
    "date_range =  [df['DATE'].min().date(), df['DATE'].max().date()]\n",
    "date_range = [pd.to_datetime(date) for date in date_range]\n",
    "# 数据过滤\n",
    "filtered_df = df[(df['DATE'].dt.date >= date_range[0].date()) &\n",
    "                 (df['DATE'].dt.date <= date_range[1].date()) &\n",
    "                 (df[primary_label] == selected_primary)]\n",
    "\n",
    "# 初始关系图数据\n",
    "grouped_df = filtered_df.groupby([primary_label, secondary_label], as_index=False).agg({\n",
    "    selected_metric: 'sum'\n",
    "})\n",
    "\n",
    "related_secondary_values = grouped_df[secondary_label].unique()\n",
    "reverse_filtered_df = df[df[secondary_label].isin(related_secondary_values)]\n",
    "reverse_grouped_df = reverse_filtered_df.groupby([secondary_label, primary_label], as_index=False).agg({\n",
    "    selected_metric: 'sum'\n",
    "})"
   ]
  },
  {
   "cell_type": "code",
   "execution_count": 67,
   "metadata": {},
   "outputs": [
    {
     "data": {
      "application/vnd.plotly.v1+json": {
       "config": {
        "plotlyServerURL": "https://plot.ly"
       },
       "data": [
        {
         "link": {
          "color": [
           "rgb(141,211,199)",
           "rgb(255,255,179)",
           "grey",
           "rgb(251,128,114)",
           "rgb(128,177,211)",
           "rgb(253,180,98)",
           "rgb(179,222,105)",
           "grey",
           "rgb(217,217,217)",
           "grey",
           "rgb(204,235,197)",
           "rgb(255,237,111)",
           "rgb(141,211,199)",
           "rgb(255,255,179)",
           "grey",
           "rgb(251,128,114)",
           "rgb(128,177,211)",
           "rgb(253,180,98)",
           "grey",
           "rgb(252,205,229)",
           "rgb(217,217,217)",
           "rgb(188,128,189)",
           "rgb(204,235,197)",
           "rgb(255,237,111)",
           "rgb(141,211,199)",
           "grey",
           "rgb(190,186,218)",
           "rgb(251,128,114)",
           "rgb(128,177,211)",
           "rgb(253,180,98)",
           "rgb(179,222,105)",
           "rgb(252,205,229)",
           "rgb(217,217,217)",
           "rgb(188,128,189)",
           "rgb(204,235,197)",
           "grey",
           "rgb(141,211,199)",
           "rgb(255,255,179)",
           "rgb(190,186,218)",
           "rgb(251,128,114)",
           "rgb(128,177,211)"
          ],
          "hovertemplate": "Source: %{source.label}<br>Target: %{target.label}<br>Total Sales: %{value}<extra></extra>",
          "source": [
           0,
           0,
           0,
           0,
           0,
           0,
           0,
           0,
           1,
           1,
           1,
           1,
           2,
           2,
           3,
           3,
           3,
           3,
           3,
           4,
           4,
           4,
           4,
           4,
           4,
           4,
           4,
           4,
           5,
           6,
           6,
           6,
           6,
           7,
           7,
           8,
           8,
           8,
           8,
           8,
           8
          ],
          "target": [
           1,
           2,
           3,
           4,
           5,
           6,
           7,
           8,
           0,
           9,
           10,
           11,
           0,
           12,
           0,
           13,
           14,
           15,
           16,
           0,
           13,
           17,
           18,
           19,
           14,
           20,
           21,
           22,
           0,
           0,
           9,
           10,
           15,
           0,
           12,
           0,
           13,
           23,
           24,
           14,
           25
          ],
          "value": [
           1105.8400000000001,
           3846.88,
           0.000001,
           205.9,
           37059.82,
           12888.74,
           4663.57,
           0.000001,
           1105.8400000000001,
           0.000001,
           149.99,
           6600.21,
           3846.88,
           18739.5,
           0.000001,
           9368.61,
           3446.59,
           1944.97,
           0.000001,
           205.9,
           340.09000000000003,
           189.99,
           2985.78,
           852.95,
           189.99,
           0.000001,
           417,
           161.99,
           37059.82,
           12888.74,
           1631.89,
           619.96,
           1922.8899999999999,
           4663.57,
           6033.200000000001,
           0.000001,
           12144.98,
           4172.780000000001,
           1510.1200000000001,
           570.39,
           2648.8500000000004
          ]
         },
         "node": {
          "color": "blue",
          "label": [
           "286776",
           "317726884",
           "318475105",
           "318599261",
           "318600373",
           "318630516",
           "321936664",
           "324145870",
           "324145885",
           "303214",
           "304940",
           "311987",
           "296774",
           "291328",
           "300499",
           "307778",
           "314407",
           "293212",
           "295139",
           "299417",
           "304937",
           "307780",
           "314406",
           "296777",
           "299414",
           "301669"
          ],
          "line": {
           "color": "yellow",
           "width": 0.5
          },
          "pad": 30,
          "thickness": 20
         },
         "textfont": {
          "color": "black",
          "size": 12
         },
         "type": "sankey"
        }
       ],
       "layout": {
        "annotations": [
         {
          "showarrow": false,
          "text": "灰色表示销量为 0",
          "x": 0.5,
          "y": -0.1
         }
        ],
        "font": {
         "size": 10
        },
        "template": {
         "data": {
          "bar": [
           {
            "error_x": {
             "color": "#2a3f5f"
            },
            "error_y": {
             "color": "#2a3f5f"
            },
            "marker": {
             "line": {
              "color": "#E5ECF6",
              "width": 0.5
             },
             "pattern": {
              "fillmode": "overlay",
              "size": 10,
              "solidity": 0.2
             }
            },
            "type": "bar"
           }
          ],
          "barpolar": [
           {
            "marker": {
             "line": {
              "color": "#E5ECF6",
              "width": 0.5
             },
             "pattern": {
              "fillmode": "overlay",
              "size": 10,
              "solidity": 0.2
             }
            },
            "type": "barpolar"
           }
          ],
          "carpet": [
           {
            "aaxis": {
             "endlinecolor": "#2a3f5f",
             "gridcolor": "white",
             "linecolor": "white",
             "minorgridcolor": "white",
             "startlinecolor": "#2a3f5f"
            },
            "baxis": {
             "endlinecolor": "#2a3f5f",
             "gridcolor": "white",
             "linecolor": "white",
             "minorgridcolor": "white",
             "startlinecolor": "#2a3f5f"
            },
            "type": "carpet"
           }
          ],
          "choropleth": [
           {
            "colorbar": {
             "outlinewidth": 0,
             "ticks": ""
            },
            "type": "choropleth"
           }
          ],
          "contour": [
           {
            "colorbar": {
             "outlinewidth": 0,
             "ticks": ""
            },
            "colorscale": [
             [
              0,
              "#0d0887"
             ],
             [
              0.1111111111111111,
              "#46039f"
             ],
             [
              0.2222222222222222,
              "#7201a8"
             ],
             [
              0.3333333333333333,
              "#9c179e"
             ],
             [
              0.4444444444444444,
              "#bd3786"
             ],
             [
              0.5555555555555556,
              "#d8576b"
             ],
             [
              0.6666666666666666,
              "#ed7953"
             ],
             [
              0.7777777777777778,
              "#fb9f3a"
             ],
             [
              0.8888888888888888,
              "#fdca26"
             ],
             [
              1,
              "#f0f921"
             ]
            ],
            "type": "contour"
           }
          ],
          "contourcarpet": [
           {
            "colorbar": {
             "outlinewidth": 0,
             "ticks": ""
            },
            "type": "contourcarpet"
           }
          ],
          "heatmap": [
           {
            "colorbar": {
             "outlinewidth": 0,
             "ticks": ""
            },
            "colorscale": [
             [
              0,
              "#0d0887"
             ],
             [
              0.1111111111111111,
              "#46039f"
             ],
             [
              0.2222222222222222,
              "#7201a8"
             ],
             [
              0.3333333333333333,
              "#9c179e"
             ],
             [
              0.4444444444444444,
              "#bd3786"
             ],
             [
              0.5555555555555556,
              "#d8576b"
             ],
             [
              0.6666666666666666,
              "#ed7953"
             ],
             [
              0.7777777777777778,
              "#fb9f3a"
             ],
             [
              0.8888888888888888,
              "#fdca26"
             ],
             [
              1,
              "#f0f921"
             ]
            ],
            "type": "heatmap"
           }
          ],
          "heatmapgl": [
           {
            "colorbar": {
             "outlinewidth": 0,
             "ticks": ""
            },
            "colorscale": [
             [
              0,
              "#0d0887"
             ],
             [
              0.1111111111111111,
              "#46039f"
             ],
             [
              0.2222222222222222,
              "#7201a8"
             ],
             [
              0.3333333333333333,
              "#9c179e"
             ],
             [
              0.4444444444444444,
              "#bd3786"
             ],
             [
              0.5555555555555556,
              "#d8576b"
             ],
             [
              0.6666666666666666,
              "#ed7953"
             ],
             [
              0.7777777777777778,
              "#fb9f3a"
             ],
             [
              0.8888888888888888,
              "#fdca26"
             ],
             [
              1,
              "#f0f921"
             ]
            ],
            "type": "heatmapgl"
           }
          ],
          "histogram": [
           {
            "marker": {
             "pattern": {
              "fillmode": "overlay",
              "size": 10,
              "solidity": 0.2
             }
            },
            "type": "histogram"
           }
          ],
          "histogram2d": [
           {
            "colorbar": {
             "outlinewidth": 0,
             "ticks": ""
            },
            "colorscale": [
             [
              0,
              "#0d0887"
             ],
             [
              0.1111111111111111,
              "#46039f"
             ],
             [
              0.2222222222222222,
              "#7201a8"
             ],
             [
              0.3333333333333333,
              "#9c179e"
             ],
             [
              0.4444444444444444,
              "#bd3786"
             ],
             [
              0.5555555555555556,
              "#d8576b"
             ],
             [
              0.6666666666666666,
              "#ed7953"
             ],
             [
              0.7777777777777778,
              "#fb9f3a"
             ],
             [
              0.8888888888888888,
              "#fdca26"
             ],
             [
              1,
              "#f0f921"
             ]
            ],
            "type": "histogram2d"
           }
          ],
          "histogram2dcontour": [
           {
            "colorbar": {
             "outlinewidth": 0,
             "ticks": ""
            },
            "colorscale": [
             [
              0,
              "#0d0887"
             ],
             [
              0.1111111111111111,
              "#46039f"
             ],
             [
              0.2222222222222222,
              "#7201a8"
             ],
             [
              0.3333333333333333,
              "#9c179e"
             ],
             [
              0.4444444444444444,
              "#bd3786"
             ],
             [
              0.5555555555555556,
              "#d8576b"
             ],
             [
              0.6666666666666666,
              "#ed7953"
             ],
             [
              0.7777777777777778,
              "#fb9f3a"
             ],
             [
              0.8888888888888888,
              "#fdca26"
             ],
             [
              1,
              "#f0f921"
             ]
            ],
            "type": "histogram2dcontour"
           }
          ],
          "mesh3d": [
           {
            "colorbar": {
             "outlinewidth": 0,
             "ticks": ""
            },
            "type": "mesh3d"
           }
          ],
          "parcoords": [
           {
            "line": {
             "colorbar": {
              "outlinewidth": 0,
              "ticks": ""
             }
            },
            "type": "parcoords"
           }
          ],
          "pie": [
           {
            "automargin": true,
            "type": "pie"
           }
          ],
          "scatter": [
           {
            "fillpattern": {
             "fillmode": "overlay",
             "size": 10,
             "solidity": 0.2
            },
            "type": "scatter"
           }
          ],
          "scatter3d": [
           {
            "line": {
             "colorbar": {
              "outlinewidth": 0,
              "ticks": ""
             }
            },
            "marker": {
             "colorbar": {
              "outlinewidth": 0,
              "ticks": ""
             }
            },
            "type": "scatter3d"
           }
          ],
          "scattercarpet": [
           {
            "marker": {
             "colorbar": {
              "outlinewidth": 0,
              "ticks": ""
             }
            },
            "type": "scattercarpet"
           }
          ],
          "scattergeo": [
           {
            "marker": {
             "colorbar": {
              "outlinewidth": 0,
              "ticks": ""
             }
            },
            "type": "scattergeo"
           }
          ],
          "scattergl": [
           {
            "marker": {
             "colorbar": {
              "outlinewidth": 0,
              "ticks": ""
             }
            },
            "type": "scattergl"
           }
          ],
          "scattermapbox": [
           {
            "marker": {
             "colorbar": {
              "outlinewidth": 0,
              "ticks": ""
             }
            },
            "type": "scattermapbox"
           }
          ],
          "scatterpolar": [
           {
            "marker": {
             "colorbar": {
              "outlinewidth": 0,
              "ticks": ""
             }
            },
            "type": "scatterpolar"
           }
          ],
          "scatterpolargl": [
           {
            "marker": {
             "colorbar": {
              "outlinewidth": 0,
              "ticks": ""
             }
            },
            "type": "scatterpolargl"
           }
          ],
          "scatterternary": [
           {
            "marker": {
             "colorbar": {
              "outlinewidth": 0,
              "ticks": ""
             }
            },
            "type": "scatterternary"
           }
          ],
          "surface": [
           {
            "colorbar": {
             "outlinewidth": 0,
             "ticks": ""
            },
            "colorscale": [
             [
              0,
              "#0d0887"
             ],
             [
              0.1111111111111111,
              "#46039f"
             ],
             [
              0.2222222222222222,
              "#7201a8"
             ],
             [
              0.3333333333333333,
              "#9c179e"
             ],
             [
              0.4444444444444444,
              "#bd3786"
             ],
             [
              0.5555555555555556,
              "#d8576b"
             ],
             [
              0.6666666666666666,
              "#ed7953"
             ],
             [
              0.7777777777777778,
              "#fb9f3a"
             ],
             [
              0.8888888888888888,
              "#fdca26"
             ],
             [
              1,
              "#f0f921"
             ]
            ],
            "type": "surface"
           }
          ],
          "table": [
           {
            "cells": {
             "fill": {
              "color": "#EBF0F8"
             },
             "line": {
              "color": "white"
             }
            },
            "header": {
             "fill": {
              "color": "#C8D4E3"
             },
             "line": {
              "color": "white"
             }
            },
            "type": "table"
           }
          ]
         },
         "layout": {
          "annotationdefaults": {
           "arrowcolor": "#2a3f5f",
           "arrowhead": 0,
           "arrowwidth": 1
          },
          "autotypenumbers": "strict",
          "coloraxis": {
           "colorbar": {
            "outlinewidth": 0,
            "ticks": ""
           }
          },
          "colorscale": {
           "diverging": [
            [
             0,
             "#8e0152"
            ],
            [
             0.1,
             "#c51b7d"
            ],
            [
             0.2,
             "#de77ae"
            ],
            [
             0.3,
             "#f1b6da"
            ],
            [
             0.4,
             "#fde0ef"
            ],
            [
             0.5,
             "#f7f7f7"
            ],
            [
             0.6,
             "#e6f5d0"
            ],
            [
             0.7,
             "#b8e186"
            ],
            [
             0.8,
             "#7fbc41"
            ],
            [
             0.9,
             "#4d9221"
            ],
            [
             1,
             "#276419"
            ]
           ],
           "sequential": [
            [
             0,
             "#0d0887"
            ],
            [
             0.1111111111111111,
             "#46039f"
            ],
            [
             0.2222222222222222,
             "#7201a8"
            ],
            [
             0.3333333333333333,
             "#9c179e"
            ],
            [
             0.4444444444444444,
             "#bd3786"
            ],
            [
             0.5555555555555556,
             "#d8576b"
            ],
            [
             0.6666666666666666,
             "#ed7953"
            ],
            [
             0.7777777777777778,
             "#fb9f3a"
            ],
            [
             0.8888888888888888,
             "#fdca26"
            ],
            [
             1,
             "#f0f921"
            ]
           ],
           "sequentialminus": [
            [
             0,
             "#0d0887"
            ],
            [
             0.1111111111111111,
             "#46039f"
            ],
            [
             0.2222222222222222,
             "#7201a8"
            ],
            [
             0.3333333333333333,
             "#9c179e"
            ],
            [
             0.4444444444444444,
             "#bd3786"
            ],
            [
             0.5555555555555556,
             "#d8576b"
            ],
            [
             0.6666666666666666,
             "#ed7953"
            ],
            [
             0.7777777777777778,
             "#fb9f3a"
            ],
            [
             0.8888888888888888,
             "#fdca26"
            ],
            [
             1,
             "#f0f921"
            ]
           ]
          },
          "colorway": [
           "#636efa",
           "#EF553B",
           "#00cc96",
           "#ab63fa",
           "#FFA15A",
           "#19d3f3",
           "#FF6692",
           "#B6E880",
           "#FF97FF",
           "#FECB52"
          ],
          "font": {
           "color": "#2a3f5f"
          },
          "geo": {
           "bgcolor": "white",
           "lakecolor": "white",
           "landcolor": "#E5ECF6",
           "showlakes": true,
           "showland": true,
           "subunitcolor": "white"
          },
          "hoverlabel": {
           "align": "left"
          },
          "hovermode": "closest",
          "mapbox": {
           "style": "light"
          },
          "paper_bgcolor": "white",
          "plot_bgcolor": "#E5ECF6",
          "polar": {
           "angularaxis": {
            "gridcolor": "white",
            "linecolor": "white",
            "ticks": ""
           },
           "bgcolor": "#E5ECF6",
           "radialaxis": {
            "gridcolor": "white",
            "linecolor": "white",
            "ticks": ""
           }
          },
          "scene": {
           "xaxis": {
            "backgroundcolor": "#E5ECF6",
            "gridcolor": "white",
            "gridwidth": 2,
            "linecolor": "white",
            "showbackground": true,
            "ticks": "",
            "zerolinecolor": "white"
           },
           "yaxis": {
            "backgroundcolor": "#E5ECF6",
            "gridcolor": "white",
            "gridwidth": 2,
            "linecolor": "white",
            "showbackground": true,
            "ticks": "",
            "zerolinecolor": "white"
           },
           "zaxis": {
            "backgroundcolor": "#E5ECF6",
            "gridcolor": "white",
            "gridwidth": 2,
            "linecolor": "white",
            "showbackground": true,
            "ticks": "",
            "zerolinecolor": "white"
           }
          },
          "shapedefaults": {
           "line": {
            "color": "#2a3f5f"
           }
          },
          "ternary": {
           "aaxis": {
            "gridcolor": "white",
            "linecolor": "white",
            "ticks": ""
           },
           "baxis": {
            "gridcolor": "white",
            "linecolor": "white",
            "ticks": ""
           },
           "bgcolor": "#E5ECF6",
           "caxis": {
            "gridcolor": "white",
            "linecolor": "white",
            "ticks": ""
           }
          },
          "title": {
           "x": 0.05
          },
          "xaxis": {
           "automargin": true,
           "gridcolor": "white",
           "linecolor": "white",
           "ticks": "",
           "title": {
            "standoff": 15
           },
           "zerolinecolor": "white",
           "zerolinewidth": 2
          },
          "yaxis": {
           "automargin": true,
           "gridcolor": "white",
           "linecolor": "white",
           "ticks": "",
           "title": {
            "standoff": 15
           },
           "zerolinecolor": "white",
           "zerolinewidth": 2
          }
         }
        },
        "title": {
         "text": "CAMPAIGN ID - PROMOTED SKU - CAMPAIGN ID 总销售额 Sankey 图"
        }
       }
      }
     },
     "metadata": {},
     "output_type": "display_data"
    }
   ],
   "source": [
    "# 根据primary_label调整合并顺序\n",
    "if primary_label == 'PROMOTED SKU':\n",
    "    # 当 primary_label 为 'PROMOTED SKU' 时，反转顺序\n",
    "    combined_data = pd.concat([\n",
    "        grouped_df.rename(columns={\"PROMOTED SKU\": \"Source\", \"CAMPAIGN ID\": \"Target\", \"TOTAL SALES\": \"Value\"}),\n",
    "        reverse_grouped_df.rename(columns={\"CAMPAIGN ID\": \"Source\", \"PROMOTED SKU\": \"Target\", \"TOTAL SALES\": \"Value\"})\n",
    "    ])\n",
    "else:\n",
    "    # 默认顺序\n",
    "    combined_data = pd.concat([\n",
    "        grouped_df.rename(columns={\"CAMPAIGN ID\": \"Source\", \"PROMOTED SKU\": \"Target\", \"TOTAL SALES\": \"Value\"}),\n",
    "        reverse_grouped_df.rename(columns={\"PROMOTED SKU\": \"Source\", \"CAMPAIGN ID\": \"Target\", \"TOTAL SALES\": \"Value\"})\n",
    "    ])\n",
    "\n",
    "# 替换 TOTAL SALES 为 0 的值为一个小值，避免 Sankey 图显示异常\n",
    "combined_data[\"Value\"] = combined_data[\"Value\"].replace(0, 1e-6)\n",
    "\n",
    "# 定义颜色列表\n",
    "color_palette = plotly.colors.qualitative.Set3\n",
    "combined_data[\"Color\"] = [\n",
    "    \"grey\" if value == 1e-6 else color_palette[i % len(color_palette)]\n",
    "    for i, value in enumerate(combined_data[\"Value\"])\n",
    "]\n",
    "# 创建 Sankey 图所需的唯一标签\n",
    "unique_labels = pd.concat([combined_data[\"Source\"], combined_data[\"Target\"]]).unique()\n",
    "label_to_index = {label: idx for idx, label in enumerate(unique_labels)}\n",
    "\n",
    "# 映射标签到索引\n",
    "combined_data[\"Source\"] = combined_data[\"Source\"].map(label_to_index)\n",
    "combined_data[\"Target\"] = combined_data[\"Target\"].map(label_to_index)\n",
    "\n",
    "# 创建 Sankey 图\n",
    "fig = go.Figure(data=[go.Sankey(\n",
    "    textfont=dict(size=12, color='black'),\n",
    "    node=dict(\n",
    "        pad=30,\n",
    "        thickness=20,\n",
    "        line=dict(color=\"yellow\", width=0.5),\n",
    "        label=[str(label) for label in unique_labels],\n",
    "        color='blue'\n",
    "    ),\n",
    "    link=dict(\n",
    "        source=combined_data[\"Source\"],\n",
    "        target=combined_data[\"Target\"],\n",
    "        value=combined_data[\"Value\"],\n",
    "        color=combined_data[\"Color\"],\n",
    "        hovertemplate=\"Source: %{source.label}<br>Target: %{target.label}<br>Total Sales: %{value}<extra></extra>\"\n",
    "    )\n",
    ")])\n",
    "\n",
    "# 更新图表布局并显示\n",
    "fig.update_layout(\n",
    "    title_text=\"CAMPAIGN ID - PROMOTED SKU - CAMPAIGN ID 总销售额 Sankey 图\",\n",
    "    font_size=10,\n",
    "    annotations=[\n",
    "        dict(\n",
    "            text=\"灰色表示销量为 0\",\n",
    "            x=0.5,\n",
    "            y=-0.1,\n",
    "            showarrow=False\n",
    "        )\n",
    "    ]\n",
    ")\n",
    "fig.show()"
   ]
  }
 ],
 "metadata": {
  "kernelspec": {
   "display_name": ".venv",
   "language": "python",
   "name": "python3"
  },
  "language_info": {
   "codemirror_mode": {
    "name": "ipython",
    "version": 3
   },
   "file_extension": ".py",
   "mimetype": "text/x-python",
   "name": "python",
   "nbconvert_exporter": "python",
   "pygments_lexer": "ipython3",
   "version": "3.12.4"
  }
 },
 "nbformat": 4,
 "nbformat_minor": 2
}
